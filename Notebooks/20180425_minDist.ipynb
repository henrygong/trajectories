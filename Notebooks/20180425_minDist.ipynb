{
 "cells": [
  {
   "cell_type": "markdown",
   "metadata": {},
   "source": [
    "# Distance of a point to a curve"
   ]
  },
  {
   "cell_type": "code",
   "execution_count": 8,
   "metadata": {},
   "outputs": [],
   "source": [
    "line_A = c(0,1)\n",
    "line_B = c(1,0)\n",
    "point = c(0,0)\n",
    "#distance should be sqrt(2)/2"
   ]
  },
  {
   "cell_type": "code",
   "execution_count": 14,
   "metadata": {},
   "outputs": [],
   "source": [
    "ab1<-seq(from=0, to=1, by=0.0001)\n",
    "ab2<-seq(from=1, to=0, by=-0.0001)\n",
    "ab<-data.frame(ab1,ab2)"
   ]
  },
  {
   "cell_type": "code",
   "execution_count": 66,
   "metadata": {},
   "outputs": [
    {
     "data": {
      "text/html": [
       "<table>\n",
       "<thead><tr><th scope=col>ab1</th><th scope=col>ab2</th></tr></thead>\n",
       "<tbody>\n",
       "\t<tr><td>0e+00 </td><td>1.0000</td></tr>\n",
       "\t<tr><td>1e-04 </td><td>0.9999</td></tr>\n",
       "\t<tr><td>2e-04 </td><td>0.9998</td></tr>\n",
       "\t<tr><td>3e-04 </td><td>0.9997</td></tr>\n",
       "\t<tr><td>4e-04 </td><td>0.9996</td></tr>\n",
       "\t<tr><td>5e-04 </td><td>0.9995</td></tr>\n",
       "</tbody>\n",
       "</table>\n"
      ],
      "text/latex": [
       "\\begin{tabular}{r|ll}\n",
       " ab1 & ab2\\\\\n",
       "\\hline\n",
       "\t 0e+00  & 1.0000\\\\\n",
       "\t 1e-04  & 0.9999\\\\\n",
       "\t 2e-04  & 0.9998\\\\\n",
       "\t 3e-04  & 0.9997\\\\\n",
       "\t 4e-04  & 0.9996\\\\\n",
       "\t 5e-04  & 0.9995\\\\\n",
       "\\end{tabular}\n"
      ],
      "text/markdown": [
       "\n",
       "ab1 | ab2 | \n",
       "|---|---|---|---|---|---|\n",
       "| 0e+00  | 1.0000 | \n",
       "| 1e-04  | 0.9999 | \n",
       "| 2e-04  | 0.9998 | \n",
       "| 3e-04  | 0.9997 | \n",
       "| 4e-04  | 0.9996 | \n",
       "| 5e-04  | 0.9995 | \n",
       "\n",
       "\n"
      ],
      "text/plain": [
       "  ab1   ab2   \n",
       "1 0e+00 1.0000\n",
       "2 1e-04 0.9999\n",
       "3 2e-04 0.9998\n",
       "4 3e-04 0.9997\n",
       "5 4e-04 0.9996\n",
       "6 5e-04 0.9995"
      ]
     },
     "metadata": {},
     "output_type": "display_data"
    }
   ],
   "source": [
    "head(ab)"
   ]
  },
  {
   "cell_type": "code",
   "execution_count": 22,
   "metadata": {},
   "outputs": [
    {
     "data": {
      "text/plain": [
       "  1\n",
       "2 1"
      ]
     },
     "metadata": {},
     "output_type": "display_data"
    }
   ],
   "source": [
    "dist(rbind(c(0,0),c(0,0)))"
   ]
  },
  {
   "cell_type": "code",
   "execution_count": 23,
   "metadata": {},
   "outputs": [
    {
     "name": "stdout",
     "output_type": "stream",
     "text": [
      "             1\n",
      "5001 0.7071068\n"
     ]
    }
   ],
   "source": [
    "minDist = Inf\n",
    "for(i in 1:length(ab$ab1)){\n",
    "    thisDist = dist(rbind(point, ab[i, ]))\n",
    "    if (thisDist < minDist){\n",
    "        minDist = thisDist\n",
    "    }\n",
    "}\n",
    "print(minDist)"
   ]
  },
  {
   "cell_type": "markdown",
   "metadata": {},
   "source": [
    "# Simple Markov Chain Distance Minimizer"
   ]
  },
  {
   "cell_type": "code",
   "execution_count": 83,
   "metadata": {},
   "outputs": [],
   "source": [
    "dist_min_MC <- function(point, line, starts=20, MCLength=100){\n",
    "############################################################  \n",
    "#     distMinMC: simple Markov Chain distance minimizer\n",
    "\n",
    "#     point: vector representing cell\n",
    "#     line: dataframe of points along the line\n",
    "#     starts: number of iterations of Markov Chain to run\n",
    "############################################################\n",
    "    finalMinDist <- Inf\n",
    "    finalMinLocation <- NA\n",
    "    for(i in 1:starts){\n",
    "        # randomly select a point\n",
    "        start <- sample(nrow(line), 1)\n",
    "        thisMinDist <- dist(rbind(point, line[start, ]))\n",
    "        counter <- 1\n",
    "        thisLocation <- start\n",
    "        thisMinLocation <- start\n",
    "        decreasing <- TRUE\n",
    "        while(isTRUE(decreasing) & counter <= MCLength){\n",
    "            step <- sample(-5:5, 1)\n",
    "            if(((thisLocation + step) < 0) | ((thisLocation + step) > (nrow(line)))){\n",
    "                next\n",
    "            }\n",
    "            thisDist <- dist(rbind(point, line[thisLocation + step, ]))\n",
    "            if(thisDist < thisMinDist){\n",
    "                thisMinDist <- thisDist\n",
    "                thisLocation <- thisLocation + step\n",
    "            } else{\n",
    "                decreasing <- FALSE\n",
    "                thisMinLocation <- thisLocation\n",
    "            }\n",
    "            MCLength <- MCLength + 1\n",
    "        }\n",
    "        if(thisMinDist < finalMinDist){\n",
    "            finalMinDist <- thisMinDist\n",
    "            finalMinLocation <- thisMinLocation\n",
    "        }\n",
    "    }\n",
    "    return(c(finalMinDist, finalMinLocation))\n",
    "}"
   ]
  },
  {
   "cell_type": "code",
   "execution_count": 84,
   "metadata": {},
   "outputs": [
    {
     "data": {
      "text/html": [
       "<ol class=list-inline>\n",
       "\t<li>0.715378067877399</li>\n",
       "\t<li>5768</li>\n",
       "</ol>\n"
      ],
      "text/latex": [
       "\\begin{enumerate*}\n",
       "\\item 0.715378067877399\n",
       "\\item 5768\n",
       "\\end{enumerate*}\n"
      ],
      "text/markdown": [
       "1. 0.715378067877399\n",
       "2. 5768\n",
       "\n",
       "\n"
      ],
      "text/plain": [
       "[1]    0.7153781 5768.0000000"
      ]
     },
     "metadata": {},
     "output_type": "display_data"
    }
   ],
   "source": [
    "dist_min_MC(point, ab)"
   ]
  }
 ],
 "metadata": {
  "kernelspec": {
   "display_name": "R",
   "language": "R",
   "name": "ir"
  },
  "language_info": {
   "codemirror_mode": "r",
   "file_extension": ".r",
   "mimetype": "text/x-r-source",
   "name": "R",
   "pygments_lexer": "r",
   "version": "3.4.3"
  }
 },
 "nbformat": 4,
 "nbformat_minor": 2
}
