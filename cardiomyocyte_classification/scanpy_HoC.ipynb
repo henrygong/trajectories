{
 "cells": [
  {
   "cell_type": "code",
   "execution_count": 1,
   "metadata": {},
   "outputs": [],
   "source": [
    "# Imports\n",
    "import numpy as np\n",
    "import pandas as pd\n",
    "import scanpy.api as sc\n",
    "import timeit\n",
    "import glob\n",
    "import os"
   ]
  },
  {
   "cell_type": "code",
   "execution_count": 2,
   "metadata": {},
   "outputs": [],
   "source": [
    "# Set path prefix\n",
    "path_prefix = '/soe/apblair/sc_analysis/HoC_data/human/matrices_tsv/*.csv'"
   ]
  },
  {
   "cell_type": "code",
   "execution_count": 3,
   "metadata": {},
   "outputs": [],
   "source": [
    "# Create ensembl to Hugo conversion dictionary\n",
    "symbol2ensemble = pd.read_csv('/projects/sysbio/users/hzgong/pablo/cluster/brain_of_cells/v4/resources/gene_id_conversion.tsv', sep='\\t', index_col=1)['ensembl']\n",
    "symbol2ensemble = symbol2ensemble[symbol2ensemble.notnull()]\n",
    "ensembl2symbol = dict(zip(symbol2ensemble.values,symbol2ensemble.index.values))"
   ]
  },
  {
   "cell_type": "code",
   "execution_count": 4,
   "metadata": {},
   "outputs": [],
   "source": [
    "# Check how many different cell ages are present\n",
    "cell_batch = set()\n",
    "for batches in glob.glob(path_prefix):\n",
    "    cell_batch.add(batches.split('/')[-1][2:5])"
   ]
  },
  {
   "cell_type": "code",
   "execution_count": 5,
   "metadata": {},
   "outputs": [],
   "source": [
    "cell_dict = {key: [] for key in list(cell_batch)}\n",
    "for sc_data in glob.glob(path_prefix):\n",
    "    \n",
    "    # Create directory path and denote by cell type and age\n",
    "    directory = '/soe/apblair/sc_analysis/' + sc_data.split('/')[-1].split('.')[0]\n",
    "    try:\n",
    "        if not os.path.exists(directory):\n",
    "            os.makedirs(directory)\n",
    "    except OSError:\n",
    "        print ('Error: Creating directory. ' +  directory)\n",
    "\n",
    "    for age in cell_dict.keys():\n",
    "            if age == sc_data.split('/')[-1][2:5]:\n",
    "                # Create anndata structure for cell batch data\n",
    "                adata = sc.read(sc_data, cache=True, first_column_names=True).T\n",
    "                # Add cell type to the cell batch's barcode\n",
    "                adata.obs = adata.obs.rename(index={key: sc_data.split('/')[-1].split('.')[0].split('_')[-1] + \"_\" + key for key in adata.obs.index.tolist()})\n",
    "                # Add metadata batch information to anndata object\n",
    "                adata.obs['batch_name'] = sc_data.split('/')[-1].split('.')[0]\n",
    "                # Convert gene ID's from Ensembl to Hugo\n",
    "                adata.var = adata.var.rename(index=ensembl2symbol)\n",
    "                # Append cell data to dictionary\n",
    "                cell_dict[age].append({sc_data.split('/')[-1].split('.')[0].split('_')[-1]: adata})\n",
    "                "
   ]
  },
  {
   "cell_type": "code",
   "execution_count": 32,
   "metadata": {},
   "outputs": [],
   "source": [
    "# # Concatenate each cell batch's data sets\n",
    "concatenated_cell_dict = {key: None for key in list(cell_batch)}\n",
    "for keys, values in cell_dict.items():\n",
    "    concatenated_cell_dict[keys] = values[0][list(values[0].keys())[-1]].concatenate([list(items.values())[0] for items in values[1:]], join='outer')\n"
   ]
  },
  {
   "cell_type": "code",
   "execution_count": 33,
   "metadata": {},
   "outputs": [
    {
     "name": "stdout",
     "output_type": "stream",
     "text": [
      "13W AnnData object with n_obs × n_vars = 23594 × 33694 \n",
      "    obs: 'batch_name', 'batch'\n",
      "{'LV', 'RV', 'IVS', 'LA', 'RA'}\n",
      "11W AnnData object with n_obs × n_vars = 19411 × 33694 \n",
      "    obs: 'batch_name', 'batch'\n",
      "{'LV', 'RV', 'IVS', 'LA', 'RA'}\n"
     ]
    }
   ],
   "source": [
    "# Check concatenation\n",
    "check_concatenation = set()\n",
    "for keys, values in concatenated_cell_dict.items():\n",
    "    for items in values.obs.index.tolist():\n",
    "        check_concatenation.add(items.split(\"_\")[0])\n",
    "    print(keys, values)\n",
    "    print(check_concatenation)"
   ]
  }
 ],
 "metadata": {
  "kernelspec": {
   "display_name": "Python 3",
   "language": "python",
   "name": "python3"
  },
  "language_info": {
   "codemirror_mode": {
    "name": "ipython",
    "version": 3
   },
   "file_extension": ".py",
   "mimetype": "text/x-python",
   "name": "python",
   "nbconvert_exporter": "python",
   "pygments_lexer": "ipython3",
   "version": "3.5.5"
  }
 },
 "nbformat": 4,
 "nbformat_minor": 2
}
