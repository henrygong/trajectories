{
 "cells": [
  {
   "cell_type": "code",
   "execution_count": 1,
   "metadata": {},
   "outputs": [],
   "source": [
    "import numpy as np\n",
    "import pandas as pd\n",
    "import scanpy.api as sc\n",
    "import timeit\n",
    "import glob\n",
    "import os"
   ]
  },
  {
   "cell_type": "code",
   "execution_count": 2,
   "metadata": {},
   "outputs": [],
   "source": [
    "# Set path prefix\n",
    "path_prefix = '/soe/apblair/sc_analysis/HoC_data/human/matrices_tsv/*.csv'"
   ]
  },
  {
   "cell_type": "code",
   "execution_count": 3,
   "metadata": {},
   "outputs": [],
   "source": [
    "# Create ensembl to Hugo conversion dictionary\n",
    "symbol2ensemble = pd.read_csv('/projects/sysbio/users/hzgong/pablo/cluster/brain_of_cells/v4/resources/gene_id_conversion.tsv', sep='\\t', index_col=1)['ensembl']\n",
    "symbol2ensemble = symbol2ensemble[symbol2ensemble.notnull()]\n",
    "ensembl2symbol = dict(zip(symbol2ensemble.values,symbol2ensemble.index.values))"
   ]
  },
  {
   "cell_type": "code",
   "execution_count": 4,
   "metadata": {},
   "outputs": [],
   "source": [
    "# Check how many different cell ages are present\n",
    "cell_batch = set()\n",
    "for batches in glob.glob(path_prefix):\n",
    "    cell_batch.add(batches.split('/')[-1][2:5])"
   ]
  },
  {
   "cell_type": "code",
   "execution_count": 5,
   "metadata": {},
   "outputs": [],
   "source": [
    "# Create a dictionary where the key is the cell age and the value\n",
    "# is the cell batch's left ventricle data set in an anndata structure\n",
    "cell_dict = {k:None for k in cell_batch}\n",
    "for key in cell_dict.keys():\n",
    "    for batches in glob.glob(path_prefix):\n",
    "        if batches.split('/')[-1][2:5] == key and batches.split('/')[-1].split('_')[-1].split('.')[0] == 'LV':\n",
    "            # Create anndata structure for left ventricle data set\n",
    "            lv_cell = sc.read(batches, cache=True, first_column_names=True).T\n",
    "            # Add cell type to the cell batch's barcode\n",
    "            lv_cell.obs = lv_cell.obs.rename(index={key: batches.split('/')[-1].split('_')[-1].split('.')[0] + \"_\" + key for key in lv_cell.obs.index.tolist()})\n",
    "            # Add metadata batch information to anndata object\n",
    "            lv_cell.obs['batch_name'] = batches.split('/')[-1].split('.')[0]\n",
    "            # Convert gene ID's from Ensembl to Hugo\n",
    "            lv_cell.var = lv_cell.var.rename(index=ensembl2symbol)\n",
    "            cell_dict[key] = lv_cell"
   ]
  },
  {
   "cell_type": "code",
   "execution_count": 6,
   "metadata": {},
   "outputs": [
    {
     "name": "stdout",
     "output_type": "stream",
     "text": [
      "Making variable names unique for controlled concatenation.\n"
     ]
    }
   ],
   "source": [
    "for sc_data in glob.glob(path_prefix):\n",
    "    \n",
    "    # Create directory path and denote by cell type and age\n",
    "    directory = '/soe/apblair/sc_analysis/' + sc_data.split('/')[-1].split('.')[0]\n",
    "    try:\n",
    "        if not os.path.exists(directory):\n",
    "            os.makedirs(directory)\n",
    "    except OSError:\n",
    "        print ('Error: Creating directory. ' +  directory)\n",
    "  \n",
    "    # Pass over the left ventricle data set, because it was the first anndata object created for the cell batch\n",
    "    if sc_data.split('/')[-1].split('.')[0].split('_')[-1] == 'LV':\n",
    "        pass\n",
    "    \n",
    "    else:\n",
    "        print(sc_data.split('/')[-1].split('.')[0].split('_')[-1])\n",
    "        for age in cell_dict.keys():\n",
    "            if age == sc_data.split('/')[-1][2:5]:\n",
    "                # Create anndata structure for cell batch data\n",
    "                adata = sc.read(sc_data, cache=True, first_column_names=True).T\n",
    "                # Add cell type to the cell batch's barcode\n",
    "                adata.obs = adata.obs.rename(index={key: sc_data.split('/')[-1].split('.')[0].split('_')[-1] + \"_\" + key for key in adata.obs.index.tolist()})\n",
    "                # Add metadata batch information to anndata object\n",
    "                adata.obs['batch_name'] = sc_data.split('/')[-1].split('.')[0]\n",
    "                # Convert gene ID's from Ensembl to Hugo\n",
    "                adata.var = adata.var.rename(index=ensembl2symbol)\n",
    "                # Concatenate the anndata structure for each cell type in the batch\n",
    "                cell_dict[age].concatenate(adata, join='outer')\n",
    "        break"
   ]
  },
  {
   "cell_type": "code",
   "execution_count": 10,
   "metadata": {},
   "outputs": [
    {
     "data": {
      "text/plain": [
       "'LV_TTTGTCATCTTTACGT-1'"
      ]
     },
     "execution_count": 10,
     "metadata": {},
     "output_type": "execute_result"
    }
   ],
   "source": [
    "cell_dict['13W'].obs.index.tolist()[-1]"
   ]
  }
 ],
 "metadata": {
  "kernelspec": {
   "display_name": "Python 3",
   "language": "python",
   "name": "python3"
  },
  "language_info": {
   "codemirror_mode": {
    "name": "ipython",
    "version": 3
   },
   "file_extension": ".py",
   "mimetype": "text/x-python",
   "name": "python",
   "nbconvert_exporter": "python",
   "pygments_lexer": "ipython3",
   "version": "3.5.5"
  }
 },
 "nbformat": 4,
 "nbformat_minor": 2
}
