{
 "cells": [
  {
   "cell_type": "markdown",
   "metadata": {},
   "source": [
    "## SCANPY HoC Automated Preprocessing\n",
    "\n",
    "***Overview***\n",
    "\n",
    "***Inputs: ***\n",
    "\n",
    "***Outputs: ***\n",
    "\n",
    "***Caveats: ***\n",
    "\n",
    "***Contents ***"
   ]
  },
  {
   "cell_type": "code",
   "execution_count": 1,
   "metadata": {},
   "outputs": [],
   "source": [
    "# Imports\n",
    "import numpy as np\n",
    "import pandas as pd\n",
    "import scanpy.api as sc\n",
    "import timeit\n",
    "import glob\n",
    "import os"
   ]
  },
  {
   "cell_type": "markdown",
   "metadata": {},
   "source": [
    "### 0. Set Path Prefix"
   ]
  },
  {
   "cell_type": "code",
   "execution_count": 2,
   "metadata": {},
   "outputs": [],
   "source": [
    "# Set path prefix\n",
    "path_prefix = '/soe/apblair/sc_analysis/HoC_data/human/matrices_tsv/*.csv'"
   ]
  },
  {
   "cell_type": "markdown",
   "metadata": {},
   "source": [
    "### 1. Ensembl to Hugo Mapping Dictionary"
   ]
  },
  {
   "cell_type": "code",
   "execution_count": 3,
   "metadata": {},
   "outputs": [],
   "source": [
    "# Create ensembl to Hugo conversion dictionary\n",
    "symbol2ensemble = pd.read_csv('/projects/sysbio/users/hzgong/pablo/cluster/brain_of_cells/v4/resources/gene_id_conversion.tsv', sep='\\t', index_col=1)['ensembl']\n",
    "symbol2ensemble = symbol2ensemble[symbol2ensemble.notnull()]\n",
    "ensembl2symbol = dict(zip(symbol2ensemble.values,symbol2ensemble.index.values))"
   ]
  },
  {
   "cell_type": "markdown",
   "metadata": {},
   "source": [
    "### 2. Single Cell Data Wrangling"
   ]
  },
  {
   "cell_type": "code",
   "execution_count": 4,
   "metadata": {},
   "outputs": [],
   "source": [
    "# Check how many different cell ages are present\n",
    "cell_batch = set()\n",
    "for batches in glob.glob(path_prefix):\n",
    "    cell_batch.add(batches.split('/')[-1][2:5])"
   ]
  },
  {
   "cell_type": "code",
   "execution_count": 5,
   "metadata": {},
   "outputs": [],
   "source": [
    "cell_dict = {key: [] for key in list(cell_batch)}\n",
    "for sc_data in glob.glob(path_prefix):\n",
    "    \n",
    "    # Create directory path and denote by cell type and age\n",
    "    directory = '/soe/apblair/sc_analysis/' + sc_data.split('/')[-1].split('.')[0]\n",
    "    try:\n",
    "        if not os.path.exists(directory):\n",
    "            os.makedirs(directory)\n",
    "    except OSError:\n",
    "        print ('Error: Creating directory. ' +  directory)\n",
    "\n",
    "    for age in cell_dict.keys():\n",
    "            if age == sc_data.split('/')[-1][2:5]:\n",
    "                # Create anndata structure for cell batch data\n",
    "                adata = sc.read(sc_data, cache=True, first_column_names=True).T\n",
    "                # Add cell type to the cell batch's barcode\n",
    "                adata.obs = adata.obs.rename(index={key: sc_data.split('/')[-1].split('.')[0].split('_')[-1] + \"_\" + key for key in adata.obs.index.tolist()})\n",
    "                # Add metadata batch information to anndata object\n",
    "                adata.obs['batch_name'] = sc_data.split('/')[-1].split('.')[0]\n",
    "                # Convert gene ID's from Ensembl to Hugo\n",
    "                adata.var = adata.var.rename(index=ensembl2symbol)\n",
    "                # Append cell data to dictionary\n",
    "                cell_dict[age].append({sc_data.split('/')[-1].split('.')[0].split('_')[-1]: adata})\n",
    "                "
   ]
  },
  {
   "cell_type": "code",
   "execution_count": 6,
   "metadata": {},
   "outputs": [
    {
     "name": "stdout",
     "output_type": "stream",
     "text": [
      "Making variable names unique for controlled concatenation.\n",
      "Making variable names unique for controlled concatenation.\n"
     ]
    }
   ],
   "source": [
    "# # Concatenate each cell batch's data sets\n",
    "concatenated_cell_dict = {key: None for key in list(cell_batch)}\n",
    "for keys, values in cell_dict.items():\n",
    "    concatenated_cell_dict[keys] = values[0][list(values[0].keys())[-1]].concatenate([list(items.values())[0] for items in values[1:]], join='outer')"
   ]
  },
  {
   "cell_type": "code",
   "execution_count": 7,
   "metadata": {},
   "outputs": [
    {
     "name": "stdout",
     "output_type": "stream",
     "text": [
      "13W AnnData object with n_obs × n_vars = 23594 × 33694 \n",
      "    obs: 'batch_name', 'batch'\n",
      "{'LA', 'LV', 'RV', 'IVS', 'RA'}\n",
      "11W AnnData object with n_obs × n_vars = 19411 × 33694 \n",
      "    obs: 'batch_name', 'batch'\n",
      "{'LA', 'LV', 'RV', 'IVS', 'RA'}\n"
     ]
    }
   ],
   "source": [
    "# Check concatenation\n",
    "check_concatenation = set()\n",
    "for keys, values in concatenated_cell_dict.items():\n",
    "    for items in values.obs.index.tolist():\n",
    "        check_concatenation.add(items.split(\"_\")[0])\n",
    "    print(keys, values)\n",
    "    print(check_concatenation)"
   ]
  },
  {
   "cell_type": "markdown",
   "metadata": {},
   "source": [
    "### 3. Batch Name to Integer Mapping Dictionary"
   ]
  },
  {
   "cell_type": "code",
   "execution_count": 10,
   "metadata": {},
   "outputs": [],
   "source": [
    "# Create a batch name to integer mapping dictionary,\n",
    "# in case a user is interested in running a batch\n",
    "# correction with regress.out function\n",
    "\n",
    "batch_mapping_dict = {}\n",
    "\n",
    "inc = 0\n",
    "for keys in concatenated_cell_dict.keys():\n",
    "    for k in concatenated_cell_dict[keys].obs['batch'].unique():\n",
    "        batch_mapping_dict[k] = inc\n",
    "        inc += 1\n",
    "\n",
    "for keys in concatenated_cell_dict.keys():\n",
    "    concatenated_cell_dict[keys].obs[\"batch\"].replace(batch_mapping_dict, inplace=True)"
   ]
  },
  {
   "cell_type": "markdown",
   "metadata": {},
   "source": [
    "## 4. Preprocessing"
   ]
  },
  {
   "cell_type": "markdown",
   "metadata": {},
   "source": [
    "### 4.1. Preliminary Filtering\n",
    "\n",
    "***pp.filter_cells()***\n",
    "\n",
    "* Filter cell outliers based on counts and numbers of genes expressed.\n",
    "    - Default: min_cells = 3\n",
    "\n",
    "***pp.filter_genes()***\n",
    "\n",
    "* Filter genes based on number of cells or counts.\n",
    "    - Default: min_genes = 200"
   ]
  },
  {
   "cell_type": "code",
   "execution_count": 18,
   "metadata": {},
   "outputs": [],
   "source": [
    "# User parameters\n",
    "minimum_cells = 3\n",
    "minimum_genes = 200"
   ]
  },
  {
   "cell_type": "code",
   "execution_count": 22,
   "metadata": {},
   "outputs": [],
   "source": [
    "# Preliminary filtering\n",
    "sc_filter_dict = {'filtered_cells': [], \\\n",
    "                 'filtered_genes': []}\n",
    "\n",
    "for key in concatenated_cell_dict.keys():\n",
    "    sc_filter_dict['filtered_cells'].append({key: sc.pp.filter_cells(concatenated_cell_dict[keys], min_genes=minimum_genes)})\n",
    "    sc_filter_dict['filtered_genes'].append({key: sc.pp.filter_genes(concatenated_cell_dict[keys], min_cells=minimum_cells)})"
   ]
  },
  {
   "cell_type": "markdown",
   "metadata": {},
   "source": [
    "### 4.2. Mitochondrial Statistics\n",
    "\n",
    "The user may set the parameters for gating cells: (default values)\n",
    "\n",
    "* ***thrsh_mito***=0.2\n",
    "* ***up_thrsh_genes***=5000\n",
    "* ***low_thrsh_genes***=50\n"
   ]
  },
  {
   "cell_type": "code",
   "execution_count": 23,
   "metadata": {},
   "outputs": [],
   "source": [
    "# User parameters\n",
    "thrsh_mito = 0.2\n",
    "up_thrsh_genes = 5000\n",
    "low_thrsh_genes = 50"
   ]
  },
  {
   "cell_type": "code",
   "execution_count": 25,
   "metadata": {},
   "outputs": [],
   "source": [
    "sc_filter_dict.update({'mito_genes': []})\n",
    "\n",
    "for key in concatenated_cell_dict.keys():\n",
    "    sc_filter_dict['mito_genes'].append({key: [name for name in concatenated_cell_dict[key].var_names if name.startswith('MT.') or name.startswith('MT-')]})"
   ]
  }
 ],
 "metadata": {
  "kernelspec": {
   "display_name": "Python 3",
   "language": "python",
   "name": "python3"
  },
  "language_info": {
   "codemirror_mode": {
    "name": "ipython",
    "version": 3
   },
   "file_extension": ".py",
   "mimetype": "text/x-python",
   "name": "python",
   "nbconvert_exporter": "python",
   "pygments_lexer": "ipython3",
   "version": "3.5.5"
  }
 },
 "nbformat": 4,
 "nbformat_minor": 2
}
