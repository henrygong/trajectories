{
 "cells": [
  {
   "cell_type": "code",
   "execution_count": 1,
   "metadata": {},
   "outputs": [],
   "source": [
    "import subprocess\n",
    "import glob"
   ]
  },
  {
   "cell_type": "code",
   "execution_count": 2,
   "metadata": {},
   "outputs": [],
   "source": [
    "# User parameters\n",
    "cell_batch_read_path_prefix = '/projects/sysbio/users/apblair/sc_analysis/raw/*/rawData'\n",
    "ref_path_prefix = '/projects/sysbio/users/apblair/sc_analysis/reference_files/refdata-cellranger-GRCh38-1.2.0'\n",
    "output_path_prefix = '/projects/sysbio/users/apblair/sc_analysis'\n",
    "expected_cells = 1000"
   ]
  },
  {
   "cell_type": "code",
   "execution_count": 16,
   "metadata": {},
   "outputs": [],
   "source": [
    "cell_batch_dict = {key.split(\"/\")[-2]:[{cell_type.split(\"/\")[-1]: list(set([\"_\".join(sample_id.split(\"/\")[-1].split(\".\")[0].split(\"_\")[0:4]) \\\n",
    "                                                                       for sample_id in glob.glob(cell_type+\"/*.fastq\")]))}\\\n",
    "                                       for cell_type in glob.glob(key+\"/*\")\\\n",
    "                                       if cell_type.split(\"/\")[-1].split(\".\")[-1] != \"fastq\"] \\\n",
    "                   for key in glob.glob(cell_batch_read_path_prefix)}\n",
    "\n",
    "for batches in list(cell_batch_dict.keys()):\n",
    "    if not cell_batch_dict[batches]:\n",
    "        cell_batch_dict[batches] = list(set([(\"_\").join(item.split(\"/\")[-1].split(\".\")[0].split(\"_\")[0:4])\\\n",
    "                                             for item in glob.glob((\"/\").join(cell_batch_read_path_prefix.split(\"/\")[0:7])+\"/\"\\\n",
    "                                                                   +batches+\"/*/*\")]))"
   ]
  },
  {
   "cell_type": "code",
   "execution_count": 20,
   "metadata": {},
   "outputs": [
    {
     "name": "stdout",
     "output_type": "stream",
     "text": [
      "{'scRNAseq_5.04.18_180509_K00161_0217_AHVFFLBBXX': [{'EF10W4D_IVS': ['EF10W4D_IVS_S9_L005', 'EF10W4D_IVS_S9_L006', 'EF10W4D_IVS_S9_L007', 'EF10W4D_IVS_S9_L004', 'EF10W4D_IVS_S9_L008', 'EF10W4D_IVS_S9_L003']}, {'EF10W4D_LV': ['EF10W4D_LV_S7_L006', 'EF10W4D_LV_S7_L004', 'EF10W4D_LV_S7_L008', 'EF10W4D_LV_S7_L003', 'EF10W4D_LV_S7_L005', 'EF10W4D_LV_S7_L007']}, {'EF10W4D_RA': ['EF10W4D_RA_S6_L003', 'EF10W4D_RA_S6_L006', 'EF10W4D_RA_S6_L007', 'EF10W4D_RA_S6_L005', 'EF10W4D_RA_S6_L008', 'EF10W4D_RA_S6_L004']}, {'EF10W4D_LA': ['EF10W4D_LA_S5_L004', 'EF10W4D_LA_S5_L005', 'EF10W4D_LA_S5_L003', 'EF10W4D_LA_S5_L008', 'EF10W4D_LA_S5_L006', 'EF10W4D_LA_S5_L007']}, {'EF10W4D_RV': ['EF10W4D_RV_S8_L006', 'EF10W4D_RV_S8_L008', 'EF10W4D_RV_S8_L005', 'EF10W4D_RV_S8_L007', 'EF10W4D_RV_S8_L004', 'EF10W4D_RV_S8_L003']}], 'ThreeEndBiasedmRNA_17082017_illumina': ['SI-GA-G6_1_S25_L007', 'SI-GA-G6_4_S28_L007', 'SI-GA-G6_3_S27_L007', 'SI-GA-G6_2_S26_L007']}\n"
     ]
    }
   ],
   "source": [
    "print(cell_batch_dict)"
   ]
  },
  {
   "cell_type": "code",
   "execution_count": 19,
   "metadata": {},
   "outputs": [
    {
     "name": "stdout",
     "output_type": "stream",
     "text": [
      "EF10W4D_IVS\n",
      "/projects/sysbio/users/apblair/sc_analysis/raw/scRNAseq_5.04.18_180509_K00161_0217_AHVFFLBBXX/rawData/EF10W4D_IVS/EF10W4D_IVS_S9_L008_R1_001.fastq\n",
      "EF10W4D_IVS_S9_L005\n",
      "/soe/apblair/downloads/cellranger-2.1.1/cellranger-cs/2.1.1/bin/./cellranger count --id= /projects/sysbio/users/apblair/sc_analysis/EF10W4D_IVS --transcriptome=/projects/sysbio/users/apblair/sc_analysis/reference_files/refdata-cellranger-GRCh38-1.2.0 --fastqs=/projects/sysbio/users/apblair/sc_analysis/raw/scRNAseq_5.04.18_180509_K00161_0217_AHVFFLBBXX/rawData/EF10W4D_IVS/EF10W4D_IVS_S9_L008_R1_001.fastq --sample=EF10W4D_IVS_S9_L005 --expect-cells=1000\n"
     ]
    }
   ],
   "source": [
    "for keys, values in cell_batch_dict.items():\n",
    "    for items in values:\n",
    "        if type(items) == dict:\n",
    "            print(list(items.keys())[0])\n",
    "            # Check alignment command\n",
    "            print(glob.glob(cell_batch_read_path_prefix + \"/\" + list(items.keys())[0] + \"/*.fastq\")[0])\n",
    "            print(next(iter(items.values()))[0])\n",
    "            print('/soe/apblair/downloads/cellranger-2.1.1/cellranger-cs/2.1.1/bin/./cellranger count --id= ' + output_path_prefix + \"/\" + list(items.keys())[0] + \\\n",
    "                  ' --transcriptome=' + ref_path_prefix + \\\n",
    "                  ' --fastqs=' + glob.glob(cell_batch_read_path_prefix + \"/\" + list(items.keys())[0] + \"/*.fastq\")[0] + \\\n",
    "                  ' --sample=' + next(iter(items.values()))[0] + \\\n",
    "                  ' --expect-cells=' + str(expected_cells))\n",
    "            subprocess.call('/soe/apblair/downloads/cellranger-2.1.1/cellranger-cs/2.1.1/bin/./cellranger count --id=' + output_path_prefix + \"/\" + list(items.keys())[0] + \\\n",
    "                  ' --transcriptome=' + ref_path_prefix + \\\n",
    "                  ' --fastqs=' + glob.glob(cell_batch_read_path_prefix + \"/\" + list(items.keys())[0] + \"/*.fastq\")[0] + \\\n",
    "                  ' --sample=' + next(iter(items.values()))[0] + \\\n",
    "                  ' --expect-cells=' + str(expected_cells), shell=True)\n",
    "            break"
   ]
  },
  {
   "cell_type": "code",
   "execution_count": 71,
   "metadata": {},
   "outputs": [
    {
     "name": "stdout",
     "output_type": "stream",
     "text": [
      "EF10W4D_LV\n",
      "['sc007HKL', 'sc007HKM', 'sc007HKA', 'sc007HKN', 'sc007HKB', 'sc007HKO', 'sc007HKC', 'sc007HKD', 'sc007HJZ', 'sc007HKH', 'sc007HKE', 'sc007HKI', 'sc007HKF', 'sc007HKJ', 'sc007HJX', 'sc007HKG', 'sc007HKK', 'sc007HJY']\n",
      "cellranger count --id=/projects/sysbio/users/apblair/EF10W4D_LV/ --transcriptome=/projects/sysbio/users/apblair/sc_analysis/reference_files/refdata-cellranger-GRCh38-1.2.0 --fastqs=/projects/sysbio/users/apblair/sc_analysis/EF10W4D_LV/ --sample= k --expect-cells=1000\n",
      "\n",
      "\n"
     ]
    }
   ],
   "source": [
    "for fastq in glob.glob(read_path_prefix):\n",
    "    print(fastq.split('/')[-1])\n",
    "    print(sample_id_dict[fastq.split('/')[-1]])\n",
    "    \n",
    "    print('cellranger count --id=' + output_path_prefix + fastq.split('/')[-1] + '/' + \\\n",
    "     ' --transcriptome=' + ref_path_prefix + \\\n",
    "     ' --fastqs=' + fastq + '/' + \\\n",
    "          ' --sample= k' + ' '\\\n",
    "         '--expect-cells=' + str(expected_cells))\n",
    "    \n",
    "    # Cell ranger command\n",
    "#     subprocess.call('cellranger count --id=' + output_path_prefix + fastq.split('/')[-1] + '/' + \\\n",
    "#      ' --transcriptome=' + ref_path_prefix + \\\n",
    "#      ' --fastqs=' + fastq + '/' + \\\n",
    "#           ' --sample=' + subprocess.Popen(sample_id_dict[fastq.split('/')[-1]], stdout=subprocess.PIPE) + ' '\\\n",
    "#          '--expect-cells=' + expected_cells, shell=True)\n",
    "    print('\\n')\n",
    "    break"
   ]
  }
 ],
 "metadata": {
  "kernelspec": {
   "display_name": "Python 3",
   "language": "python",
   "name": "python3"
  },
  "language_info": {
   "codemirror_mode": {
    "name": "ipython",
    "version": 3
   },
   "file_extension": ".py",
   "mimetype": "text/x-python",
   "name": "python",
   "nbconvert_exporter": "python",
   "pygments_lexer": "ipython3",
   "version": "3.5.5"
  }
 },
 "nbformat": 4,
 "nbformat_minor": 2
}
