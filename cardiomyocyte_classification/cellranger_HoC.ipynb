{
 "cells": [
  {
   "cell_type": "code",
   "execution_count": 1,
   "metadata": {},
   "outputs": [],
   "source": [
    "import subprocess\n",
    "import glob"
   ]
  },
  {
   "cell_type": "code",
   "execution_count": 2,
   "metadata": {},
   "outputs": [],
   "source": [
    "cell_batch_read_path_prefix = '/projects/sysbio/users/apblair/sc_analysis/raw/*/rawData'"
   ]
  },
  {
   "cell_type": "code",
   "execution_count": 26,
   "metadata": {},
   "outputs": [],
   "source": [
    "cell_batch_dict = {key.split(\"/\")[-2]:[{cell_type.split(\"/\")[-1]: [sample_id.split(\"/\")[-1].split(\".\")[0] \\\n",
    "                                                                       for sample_id in glob.glob(cell_type+\"/*.fastq\")]}\\\n",
    "                                       for cell_type in glob.glob(key+\"/*\")\\\n",
    "                                       if cell_type.split(\"/\")[-1].split(\".\")[-1] != \"fastq\"] \\\n",
    "                   for key in glob.glob(cell_batch_read_path_prefix)}\n",
    "\n",
    "for batches in list(cell_batch_dict.keys()):\n",
    "    if not cell_batch_dict[batches]:\n",
    "        cell_batch_dict[batches] = [item.split(\"/\")[-1].split(\".\")[0] for item in glob.glob((\"/\").join(cell_batch_read_path_prefix.split(\"/\")[0:7])+\"/\"+batches+\"/*/*\")]"
   ]
  },
  {
   "cell_type": "code",
   "execution_count": 14,
   "metadata": {},
   "outputs": [
    {
     "name": "stdout",
     "output_type": "stream",
     "text": [
      "90\n",
      "['EF10W4D_IVS_S9_L008_R1_001.fastq', 'EF10W4D_IVS_S9_L008_R2_001.fastq', 'EF10W4D_IVS_S9_L003_R2_001.fastq', 'EF10W4D_IVS_S9_L003_R1_001.fastq', 'EF10W4D_IVS_S9_L004_R2_001.fastq', 'EF10W4D_IVS_S9_L006_R1_001.fastq', 'EF10W4D_IVS_S9_L007_R1_001.fastq', 'EF10W4D_IVS_S9_L005_R2_001.fastq', 'EF10W4D_IVS_S9_L007_R2_001.fastq', 'EF10W4D_IVS_S9_L005_R1_001.fastq', 'EF10W4D_IVS_S9_L004_R1_001.fastq', 'EF10W4D_IVS_S9_L006_R2_001.fastq', 'EF10W4D_IVS_S9_L004_I1_001.fastq', 'EF10W4D_IVS_S9_L005_I1_001.fastq', 'EF10W4D_IVS_S9_L007_I1_001.fastq', 'EF10W4D_IVS_S9_L006_I1_001.fastq', 'EF10W4D_IVS_S9_L003_I1_001.fastq', 'EF10W4D_IVS_S9_L008_I1_001.fastq', 'EF10W4D_LV_S7_L008_R2_001.fastq', 'EF10W4D_LV_S7_L008_R1_001.fastq', 'EF10W4D_LV_S7_L003_R1_001.fastq', 'EF10W4D_LV_S7_L003_R2_001.fastq', 'EF10W4D_LV_S7_L004_R1_001.fastq', 'EF10W4D_LV_S7_L006_R2_001.fastq', 'EF10W4D_LV_S7_L007_R2_001.fastq', 'EF10W4D_LV_S7_L005_R1_001.fastq', 'EF10W4D_LV_S7_L007_R1_001.fastq', 'EF10W4D_LV_S7_L005_R2_001.fastq', 'EF10W4D_LV_S7_L004_R2_001.fastq', 'EF10W4D_LV_S7_L006_R1_001.fastq', 'EF10W4D_LV_S7_L006_I1_001.fastq', 'EF10W4D_LV_S7_L007_I1_001.fastq', 'EF10W4D_LV_S7_L005_I1_001.fastq', 'EF10W4D_LV_S7_L004_I1_001.fastq', 'EF10W4D_LV_S7_L003_I1_001.fastq', 'EF10W4D_LV_S7_L008_I1_001.fastq', 'EF10W4D_RA_S6_L007_I1_001.fastq', 'EF10W4D_RA_S6_L006_I1_001.fastq', 'EF10W4D_RA_S6_L004_I1_001.fastq', 'EF10W4D_RA_S6_L005_I1_001.fastq', 'EF10W4D_RA_S6_L003_I1_001.fastq', 'EF10W4D_RA_S6_L008_I1_001.fastq', 'EF10W4D_RA_S6_L008_R2_001.fastq', 'EF10W4D_RA_S6_L008_R1_001.fastq', 'EF10W4D_RA_S6_L003_R1_001.fastq', 'EF10W4D_RA_S6_L003_R2_001.fastq', 'EF10W4D_RA_S6_L005_R1_001.fastq', 'EF10W4D_RA_S6_L007_R2_001.fastq', 'EF10W4D_RA_S6_L006_R2_001.fastq', 'EF10W4D_RA_S6_L004_R1_001.fastq', 'EF10W4D_RA_S6_L006_R1_001.fastq', 'EF10W4D_RA_S6_L004_R2_001.fastq', 'EF10W4D_RA_S6_L005_R2_001.fastq', 'EF10W4D_RA_S6_L007_R1_001.fastq', 'EF10W4D_LA_S5_L008_I1_001.fastq', 'EF10W4D_LA_S5_L003_I1_001.fastq', 'EF10W4D_LA_S5_L006_I1_001.fastq', 'EF10W4D_LA_S5_L007_I1_001.fastq', 'EF10W4D_LA_S5_L005_I1_001.fastq', 'EF10W4D_LA_S5_L004_I1_001.fastq', 'EF10W4D_LA_S5_L004_R1_001.fastq', 'EF10W4D_LA_S5_L006_R2_001.fastq', 'EF10W4D_LA_S5_L007_R2_001.fastq', 'EF10W4D_LA_S5_L005_R1_001.fastq', 'EF10W4D_LA_S5_L007_R1_001.fastq', 'EF10W4D_LA_S5_L005_R2_001.fastq', 'EF10W4D_LA_S5_L004_R2_001.fastq', 'EF10W4D_LA_S5_L006_R1_001.fastq', 'EF10W4D_LA_S5_L003_R1_001.fastq', 'EF10W4D_LA_S5_L003_R2_001.fastq', 'EF10W4D_LA_S5_L008_R2_001.fastq', 'EF10W4D_LA_S5_L008_R1_001.fastq', 'EF10W4D_RV_S8_L003_R1_001.fastq', 'EF10W4D_RV_S8_L003_R2_001.fastq', 'EF10W4D_RV_S8_L006_R2_001.fastq', 'EF10W4D_RV_S8_L004_R1_001.fastq', 'EF10W4D_RV_S8_L005_R1_001.fastq', 'EF10W4D_RV_S8_L007_R2_001.fastq', 'EF10W4D_RV_S8_L005_R2_001.fastq', 'EF10W4D_RV_S8_L007_R1_001.fastq', 'EF10W4D_RV_S8_L006_R1_001.fastq', 'EF10W4D_RV_S8_L004_R2_001.fastq', 'EF10W4D_RV_S8_L008_R2_001.fastq', 'EF10W4D_RV_S8_L008_R1_001.fastq', 'EF10W4D_RV_S8_L008_I1_001.fastq', 'EF10W4D_RV_S8_L006_I1_001.fastq', 'EF10W4D_RV_S8_L007_I1_001.fastq', 'EF10W4D_RV_S8_L005_I1_001.fastq', 'EF10W4D_RV_S8_L004_I1_001.fastq', 'EF10W4D_RV_S8_L003_I1_001.fastq']\n"
     ]
    }
   ],
   "source": [
    "for paths in cell_batch_read_list:\n",
    "    if glob.glob(paths+\"/EF*/*.fastq\"):\n",
    "        print(len(glob.glob(paths+\"/EF*/*.fastq\")))\n",
    "        print([x.split(\"/\")[-1] for x in glob.glob(paths+\"/EF*/*.fastq\")])"
   ]
  },
  {
   "cell_type": "code",
   "execution_count": 22,
   "metadata": {},
   "outputs": [
    {
     "name": "stdout",
     "output_type": "stream",
     "text": [
      "/projects/sysbio/users/apblair/sc_analysis/raw/scRNAseq_5.04.18_180509_K00161_0217_AHVFFLBBXX/rawData/EF10W4D_IVS\n",
      "6\n"
     ]
    }
   ],
   "source": [
    "for paths in glob.glob(cell_batch_read_list[1] + '/*/*'):\n",
    "    print(paths)\n",
    "    print(len(glob.glob(paths+\"/*.fastq\")))\n",
    "    break"
   ]
  },
  {
   "cell_type": "code",
   "execution_count": 64,
   "metadata": {},
   "outputs": [],
   "source": [
    "read_path_prefix = '/projects/sysbio/users/apblair/sc_analysis/EF10W4*'\n",
    "ref_path_prefix = '/projects/sysbio/users/apblair/sc_analysis/reference_files/refdata-cellranger-GRCh38-1.2.0'\n",
    "output_path_prefix = '/projects/sysbio/users/apblair/'\n",
    "expected_cells = 1000"
   ]
  },
  {
   "cell_type": "code",
   "execution_count": 31,
   "metadata": {},
   "outputs": [],
   "source": [
    "# Create dictionary where the keys are the cell batch and values are the sample id's\n",
    "sample_id_dict = {sample.split('/')[-1]: [sample_id.split('/')[-1].split('.')[0] for sample_id in glob.glob(sample + \"/*.fastq\")] for sample in glob.glob(read_path_prefix)}"
   ]
  },
  {
   "cell_type": "code",
   "execution_count": 72,
   "metadata": {},
   "outputs": [
    {
     "name": "stdout",
     "output_type": "stream",
     "text": [
      "{'EF10W4D_LV': ['sc007HKL', 'sc007HKM', 'sc007HKA', 'sc007HKN', 'sc007HKB', 'sc007HKO', 'sc007HKC', 'sc007HKD', 'sc007HJZ', 'sc007HKH', 'sc007HKE', 'sc007HKI', 'sc007HKF', 'sc007HKJ', 'sc007HJX', 'sc007HKG', 'sc007HKK', 'sc007HJY'], 'EF10W4D_LA': ['sc007HJT', 'sc007HJL', 'sc007HJU', 'sc007HJM', 'sc007HJV', 'sc007HJN', 'sc007HJW', 'sc007HJO', 'sc007HJP', 'sc007HJH', 'sc007HJQ', 'sc007HJI', 'sc007HJR', 'sc007HJJ', 'sc007HJF', 'sc007HJS', 'sc007HJK', 'sc007HJG'], 'EF10W4D_RA': ['sc007HKT', 'sc007HLE', 'sc007HKX', 'sc007HKU', 'sc007HLD', 'sc007HKY', 'sc007HKV', 'sc007HKZ', 'sc007HLG', 'sc007HKW', 'sc007HLF', 'sc007HLA', 'sc007HKP', 'sc007HKQ', 'sc007HLC', 'sc007HKR', 'sc007HLB', 'sc007HKS'], 'EF10W4D_RV': ['sc007HLN', 'sc007HLV', 'sc007HLO', 'sc007HLW', 'sc007HLL', 'sc007HLT', 'sc007HLX', 'sc007HLM', 'sc007HLU', 'sc007HLY', 'sc007HLJ', 'sc007HLR', 'sc007HLK', 'sc007HLS', 'sc007HLH', 'sc007HLP', 'sc007HLI', 'sc007HLQ'], 'EF10W4D_IVS': ['sc007HIO', 'sc007HJD', 'sc007HIW', 'sc007HIN', 'sc007HIV', 'sc007HJE', 'sc007HIZ', 'sc007HIU', 'sc007HIY', 'sc007HIT', 'sc007HIX', 'sc007HIS', 'sc007HJA', 'sc007HIR', 'sc007HIQ', 'sc007HJB', 'sc007HJC', 'sc007HIP']}\n"
     ]
    }
   ],
   "source": [
    "print(sample_id_dict)"
   ]
  },
  {
   "cell_type": "code",
   "execution_count": 71,
   "metadata": {},
   "outputs": [
    {
     "name": "stdout",
     "output_type": "stream",
     "text": [
      "EF10W4D_LV\n",
      "['sc007HKL', 'sc007HKM', 'sc007HKA', 'sc007HKN', 'sc007HKB', 'sc007HKO', 'sc007HKC', 'sc007HKD', 'sc007HJZ', 'sc007HKH', 'sc007HKE', 'sc007HKI', 'sc007HKF', 'sc007HKJ', 'sc007HJX', 'sc007HKG', 'sc007HKK', 'sc007HJY']\n",
      "cellranger count --id=/projects/sysbio/users/apblair/EF10W4D_LV/ --transcriptome=/projects/sysbio/users/apblair/sc_analysis/reference_files/refdata-cellranger-GRCh38-1.2.0 --fastqs=/projects/sysbio/users/apblair/sc_analysis/EF10W4D_LV/ --sample= k --expect-cells=1000\n",
      "\n",
      "\n"
     ]
    }
   ],
   "source": [
    "for fastq in glob.glob(read_path_prefix):\n",
    "    print(fastq.split('/')[-1])\n",
    "    print(sample_id_dict[fastq.split('/')[-1]])\n",
    "    \n",
    "    print('cellranger count --id=' + output_path_prefix + fastq.split('/')[-1] + '/' + \\\n",
    "     ' --transcriptome=' + ref_path_prefix + \\\n",
    "     ' --fastqs=' + fastq + '/' + \\\n",
    "          ' --sample= k' + ' '\\\n",
    "         '--expect-cells=' + str(expected_cells))\n",
    "    \n",
    "    # Cell ranger command\n",
    "#     subprocess.call('cellranger count --id=' + output_path_prefix + fastq.split('/')[-1] + '/' + \\\n",
    "#      ' --transcriptome=' + ref_path_prefix + \\\n",
    "#      ' --fastqs=' + fastq + '/' + \\\n",
    "#           ' --sample=' + subprocess.Popen(sample_id_dict[fastq.split('/')[-1]], stdout=subprocess.PIPE) + ' '\\\n",
    "#          '--expect-cells=' + expected_cells, shell=True)\n",
    "    print('\\n')\n",
    "    break"
   ]
  }
 ],
 "metadata": {
  "kernelspec": {
   "display_name": "Python 3",
   "language": "python",
   "name": "python3"
  },
  "language_info": {
   "codemirror_mode": {
    "name": "ipython",
    "version": 3
   },
   "file_extension": ".py",
   "mimetype": "text/x-python",
   "name": "python",
   "nbconvert_exporter": "python",
   "pygments_lexer": "ipython3",
   "version": "3.5.5"
  }
 },
 "nbformat": 4,
 "nbformat_minor": 2
}
