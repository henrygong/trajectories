{
 "cells": [
  {
   "cell_type": "code",
   "execution_count": 1,
   "metadata": {},
   "outputs": [],
   "source": [
    "import subprocess\n",
    "import glob\n",
    "import json"
   ]
  },
  {
   "cell_type": "code",
   "execution_count": 2,
   "metadata": {},
   "outputs": [],
   "source": [
    "# User parameters\n",
    "cellranger_path = '/soe/apblair/downloads/cellranger-2.1.1/cellranger-cs/2.1.1/bin/./cellranger'\n",
    "cell_batch_read_path_prefix = '/projects/sysbio/users/apblair/sc_analysis/raw/*/rawData'\n",
    "ref_path_prefix = '/projects/sysbio/users/apblair/sc_analysis/reference_files/refdata-cellranger-GRCh38-1.2.0'\n",
    "output_path_prefix = '/projects/sysbio/users/apblair/sc_analysis/'\n",
    "expected_cells = 1000"
   ]
  },
  {
   "cell_type": "code",
   "execution_count": 3,
   "metadata": {},
   "outputs": [],
   "source": [
    "cell_batch_dict = {key.split(\"/\")[-2]:{key:list(set([cell_type.split(\"/\")[-1]\\\n",
    "                                       if cell_type.split(\"/\")[-1].split(\".\")[-1] != \"fastq\" \\\n",
    "                                       else \"_\".join(cell_type.split(\"/\")[-1].split(\".\")[0].split(\"_\")[0:3])\\\n",
    "                                                 for cell_type in glob.glob(key+\"/*\")]))} \\\n",
    "                   for key in glob.glob(cell_batch_read_path_prefix)}"
   ]
  },
  {
   "cell_type": "markdown",
   "metadata": {},
   "source": [
    "### Command Example\n",
    "\n",
    "**cellranger count**\n",
    "\n",
    "                --id=EF10W4D_IVS \\\n",
    "                \n",
    "                --transcriptome=/projects/sysbio/users/apblair/sc_analysis/reference_files/refdata-cellranger-GRCh38-1.2.0 \\\n",
    "                \n",
    "                --fastqs=/projects/sysbio/users/apblair/sc_analysis/raw/scRNAseq_5.04.18_180509_K00161_0217_AHVFFLBBXX/rawDat/EF10W4D_IVS \\\n",
    "                \n",
    "                --sample=EF10W4D_IVS \\\n",
    "                \n",
    "                --expect-cells=1000"
   ]
  },
  {
   "cell_type": "code",
   "execution_count": 5,
   "metadata": {},
   "outputs": [
    {
     "name": "stdout",
     "output_type": "stream",
     "text": [
      "Running cellranger count on EF10W4D_LV:\n",
      "/soe/apblair/downloads/cellranger-2.1.1/cellranger-cs/2.1.1/bin/./cellranger count --id=EF10W4D_LV --transcriptome=/projects/sysbio/users/apblair/sc_analysis/reference_files/refdata-cellranger-GRCh38-1.2.0 --fastqs=/projects/sysbio/users/apblair/sc_analysis/raw/scRNAseq_5.04.18_180509_K00161_0217_AHVFFLBBXX/rawData/EF10W4D_LV --sample=EF10W4D_LV --expect-cells=1000\n",
      "\n",
      "\n",
      "Running cellranger count on EF10W4D_IVS:\n",
      "/soe/apblair/downloads/cellranger-2.1.1/cellranger-cs/2.1.1/bin/./cellranger count --id=EF10W4D_IVS --transcriptome=/projects/sysbio/users/apblair/sc_analysis/reference_files/refdata-cellranger-GRCh38-1.2.0 --fastqs=/projects/sysbio/users/apblair/sc_analysis/raw/scRNAseq_5.04.18_180509_K00161_0217_AHVFFLBBXX/rawData/EF10W4D_IVS --sample=EF10W4D_IVS --expect-cells=1000\n",
      "\n",
      "\n",
      "Running cellranger count on EF10W4D_RV:\n",
      "/soe/apblair/downloads/cellranger-2.1.1/cellranger-cs/2.1.1/bin/./cellranger count --id=EF10W4D_RV --transcriptome=/projects/sysbio/users/apblair/sc_analysis/reference_files/refdata-cellranger-GRCh38-1.2.0 --fastqs=/projects/sysbio/users/apblair/sc_analysis/raw/scRNAseq_5.04.18_180509_K00161_0217_AHVFFLBBXX/rawData/EF10W4D_RV --sample=EF10W4D_RV --expect-cells=1000\n",
      "\n",
      "\n",
      "Running cellranger count on EF10W4D_LA:\n",
      "/soe/apblair/downloads/cellranger-2.1.1/cellranger-cs/2.1.1/bin/./cellranger count --id=EF10W4D_LA --transcriptome=/projects/sysbio/users/apblair/sc_analysis/reference_files/refdata-cellranger-GRCh38-1.2.0 --fastqs=/projects/sysbio/users/apblair/sc_analysis/raw/scRNAseq_5.04.18_180509_K00161_0217_AHVFFLBBXX/rawData/EF10W4D_LA --sample=EF10W4D_LA --expect-cells=1000\n",
      "\n",
      "\n",
      "Running cellranger count on EF10W4D_RA:\n",
      "/soe/apblair/downloads/cellranger-2.1.1/cellranger-cs/2.1.1/bin/./cellranger count --id=EF10W4D_RA --transcriptome=/projects/sysbio/users/apblair/sc_analysis/reference_files/refdata-cellranger-GRCh38-1.2.0 --fastqs=/projects/sysbio/users/apblair/sc_analysis/raw/scRNAseq_5.04.18_180509_K00161_0217_AHVFFLBBXX/rawData/EF10W4D_RA --sample=EF10W4D_RA --expect-cells=1000\n",
      "\n",
      "\n"
     ]
    }
   ],
   "source": [
    "cellranger_dict = {}\n",
    "for key, values in cell_batch_dict['scRNAseq_5.04.18_180509_K00161_0217_AHVFFLBBXX'].items():\n",
    "    for batch in values:\n",
    "        print(\"Running cellranger count on \" + batch + \":\")\n",
    "        cellranger_dict[batch] = cellranger_path + \" count\" +\\\n",
    "                      \" --id=\" + batch +\\\n",
    "                      \" --transcriptome=\" + ref_path_prefix + \\\n",
    "                     \" --fastqs=\" + key + \"/\" + batch + \\\n",
    "             \" --sample=\" + batch + \\\n",
    "             \" --expect-cells=\" + str(expected_cells)\n",
    "        print(cellranger_path + \" count\" + \\\n",
    "                      \" --id=\" + batch +\\\n",
    "                      \" --transcriptome=\" + ref_path_prefix + \\\n",
    "                     \" --fastqs=\" + key + \"/\" + batch  + \\\n",
    "             \" --sample=\" + batch + \\\n",
    "             \" --expect-cells=\" + str(expected_cells))\n",
    "        print(\"\\n\")"
   ]
  },
  {
   "cell_type": "code",
   "execution_count": 6,
   "metadata": {},
   "outputs": [],
   "source": [
    "# Export cellranger commands to a JSON file\n",
    "with open('scRNAseq_5.04.18_180509_K00161_0217_AHVFFLBBXX.json', 'w') as outfile:\n",
    "    json.dump(cellranger_dict, outfile, indent=2)"
   ]
  }
 ],
 "metadata": {
  "kernelspec": {
   "display_name": "Python 3",
   "language": "python",
   "name": "python3"
  },
  "language_info": {
   "codemirror_mode": {
    "name": "ipython",
    "version": 3
   },
   "file_extension": ".py",
   "mimetype": "text/x-python",
   "name": "python",
   "nbconvert_exporter": "python",
   "pygments_lexer": "ipython3",
   "version": "3.5.5"
  }
 },
 "nbformat": 4,
 "nbformat_minor": 2
}
