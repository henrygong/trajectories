{
 "cells": [
  {
   "cell_type": "code",
   "execution_count": 1,
   "metadata": {
    "collapsed": false,
    "deletable": true,
    "editable": true
   },
   "outputs": [
    {
     "name": "stderr",
     "output_type": "stream",
     "text": [
      "Loading required package: Rcpp\n"
     ]
    }
   ],
   "source": [
    "library(tidyr)\n",
    "library(fgsea)\n",
    "library(ggplot2)\n",
    "library(Rcpp)\n",
    "library(data.table)\n",
    "library(stringi)"
   ]
  },
  {
   "cell_type": "code",
   "execution_count": 2,
   "metadata": {
    "collapsed": true,
    "deletable": true,
    "editable": true
   },
   "outputs": [],
   "source": [
    "cluster_path <- '/home/jovyan/work/single_cell/week_13_no_batch_correction/gene_for_gsea_list.tsv'\n",
    "gene_set_path <- 'combined_genesets.gmt'"
   ]
  },
  {
   "cell_type": "code",
   "execution_count": 3,
   "metadata": {
    "collapsed": false,
    "deletable": true,
    "editable": true
   },
   "outputs": [],
   "source": [
    "pathways <- gmtPathways(gene_set_path) "
   ]
  },
  {
   "cell_type": "code",
   "execution_count": null,
   "metadata": {
    "collapsed": true
   },
   "outputs": [],
   "source": [
    "head(pathways)"
   ]
  },
  {
   "cell_type": "code",
   "execution_count": 45,
   "metadata": {
    "collapsed": false,
    "deletable": true,
    "editable": true
   },
   "outputs": [],
   "source": [
    "\n",
    "for (paths in names(pathways)){\n",
    "    remove_last_chars <- stri_sub(pathways$paths,1, nchar(pathways$paths)-3)\n",
    "#     print(remove_last_chars)\n",
    "    remove_first_chars <- stri_sub(remove_last_chars, 3)\n",
    "    remove_gene_space_chars <- strsplit(remove_first_chars, '\\', \\'')\n",
    "    path <- remove_gene_space_chars\n",
    "#     print(path)\n",
    "}"
   ]
  },
  {
   "cell_type": "code",
   "execution_count": 27,
   "metadata": {
    "collapsed": false,
    "deletable": true,
    "editable": true
   },
   "outputs": [
    {
     "data": {
      "text/html": [
       "<dl>\n",
       "\t<dt>$KEGG_CELL_CYCLE</dt>\n",
       "\t\t<dd>'[\\'BUB1\\', \\'CDC26\\', \\'RBL1\\', \\'RB1\\', \\'LOC728622\\', \\'CDC27\\', \\'HDAC2\\', \\'CDC14A\\', \\'ANAPC1\\', \\'E2F5\\', \\'E2F3\\', \\'CCND1\\', \\'TGFB1\\', \\'STAG1\\', \\'WEE2\\', \\'SMAD3\\', \\'LOC731751\\', \\'MCM4\\', \\'CDC45\\', \\'BUB1B\\', \\'GADD45B\\', \\'MYC\\', \\'SMAD2\\', \\'GADD45A\\', \\'CCNA1\\', \\'ZBTB17\\', \\'E2F2\\', \\'WEE1\\', \\'EP300\\', \\'CDC25B\\', \\'CDK1\\', \\'ESPL1\\', \\'PTTG2\\', \\'MCM7\\', \\'CCNB1\\', \\'CCNB3\\', \\'CDC25A\\', \\'PRKDC\\', \\'CDKN2D\\', \\'MAD2L1\\', \\'SMAD4\\', \\'TGFB2\\', \\'ANAPC13\\', \\'CCNB2\\', \\'YWHAH\\', \\'LOC650621\\', \\'CHEK2\\', \\'CDKN2B\\', \\'ANAPC10\\', \\'ORC1\\', \\'TGFB3\\', \\'E2F4\\', \\'E2F1\\', \\'ORC4\\', \\'ABL1\\', \\'MAD2L2\\', \\'YWHAB\\', \\'LOC651610\\', \\'MAD1L1\\', \\'TTK\\', \\'CDKN1A\\', \\'DBF4\\', \\'GSK3B\\', \\'CDC7\\', \\'ANAPC2\\', \\'TFDP1\\', \\'CDC6\\', \\'CDKN2C\\', \\'CCNE2\\', \\'ANAPC7\\', \\'YWHAQ\\', \\'CCND3\\', \\'SMC1A\\', \\'STAG2\\', \\'RAD21\\', \\'FZR1\\', \\'YWHAZ\\', \\'CDC25C\\', \\'CDC20\\', \\'MCM5\\', \\'CDKN1B\\', \\'ORC6\\', \\'MCM3\\', \\'TP53\\', \\'MCM6\\', \\'CDK4\\', \\'CDC16\\', \\'GADD45G\\', \\'RBL2\\', \\'ORC3\\', \\'SMC3\\', \\'MDM2\\', \\'SMC1B\\', \\'CDK2\\', \\'ORC5\\', \\'CDKN2A\\', \\'SFN\\', \\'CDK6\\', \\'YWHAE\\', \\'ATR\\', \\'CCND2\\', \\'ATM\\', \\'CUL1\\', \\'CCNA2\\', \\'CDK7\\', \\'PLK1\\', \\'PTTG1\\', \\'HDAC1\\', \\'PCNA\\', \\'SKP1\\', \\'SKP2\\', \\'RBX1\\', \\'ANAPC4\\', \\'CCNH\\', \\'ANAPC5\\', \\'TFDP2\\', \\'ORC2\\', \\'YWHAG\\', \\'PKMYT1\\', \\'CCNE1\\', \\'ANAPC11\\', \\'BUB3\\', \\'CDC23\\', \\'MCM2\\', \\'CDKN1C\\', \\'CHEK1\\', \\'CDC14B\\', \\'CREBBP\\']'</dd>\n",
       "\t<dt>$GO_OUTFLOW_TRACT_MORPHOGENESIS</dt>\n",
       "\t\t<dd>'[\\'HEYL\\', \\'WNT5A\\', \\'NPY2R\\', \\'GATA6\\', \\'FZD2\\', \\'MEF2C\\', \\'TBX2\\', \\'FOLR1\\', \\'HES1\\', \\'JUN\\', \\'RARB\\', \\'HIF1A\\', \\'VEGFA\\', \\'RYR1\\', \\'DHRS3\\', \\'ZFPM1\\', \\'DVL3\\', \\'PARVA\\', \\'TBX20\\', \\'GJA5\\', \\'CITED2\\', \\'MSX2\\', \\'ZFPM2\\', \\'HAND2\\', \\'PLXND1\\', \\'JAG1\\', \\'RBPJ\\', \\'CLDN5\\', \\'NPY5R\\', \\'NKX2-5\\', \\'FOXH1\\', \\'TBX1\\', \\'ISL1\\', \\'NEDD4\\', \\'FGF8\\', \\'NPY1R\\', \\'SIX1\\', \\'RARA\\', \\'SEC24B\\', \\'TWIST1\\', \\'SFRP2\\', \\'WNT11\\', \\'SOX17\\', \\'EYA1\\', \\'HEY2\\', \\'SOX11\\', \\'ATF2\\', \\'SEMA3C\\', \\'TBX3\\', \\'NIPBL\\', \\'PITX2\\', \\'SOX18\\', \\'FZD1\\', \\'DVL2\\', \\'ILK\\', \\'FGFR2\\']'</dd>\n",
       "\t<dt>$GO_VENTRICULAR_SEPTUM_MORPHOGENESIS</dt>\n",
       "\t\t<dd>'[\\'HEYL\\', \\'WNT5A\\', \\'FZD2\\', \\'HES1\\', \\'RBM15\\', \\'ZFPM1\\', \\'NOTCH1\\', \\'GJA5\\', \\'CITED2\\', \\'FGFRL1\\', \\'ZFPM2\\', \\'VANGL2\\', \\'NKX2-5\\', \\'EGLN1\\', \\'SAV1\\', \\'PROX1\\', \\'SMAD7\\', \\'WNT11\\', \\'HEY1\\', \\'SOX11\\', \\'HEY2\\', \\'SOX4\\', \\'TBX3\\', \\'WHSC1\\', \\'PITX2\\', \\'FZD1\\', \\'ID2\\', \\'FGFR2\\']'</dd>\n",
       "\t<dt>$GO_VENOUS_BLOOD_VESSEL_DEVELOPMENT</dt>\n",
       "\t\t<dd>'[\\'HEG1\\', \\'CCBE1\\', \\'SEMA3C\\', \\'ENG\\', \\'BMPR2\\', \\'ACVRL1\\', \\'NOTCH1\\', \\'PROX1\\', \\'TBX20\\', \\'PITX2\\', \\'ACVR2B\\', \\'CCM2\\', \\'FOXF1\\', \\'VEGFA\\', \\'NKX2-5\\']'</dd>\n",
       "\t<dt>$GO_POSITIVE_REGULATION_OF_HEART_GROWTH</dt>\n",
       "\t\t<dd>'[\\'ERBB4\\', \\'FGF9\\', \\'NRG1\\', \\'GATA6\\', \\'FGF2\\', \\'MEF2C\\', \\'TBX2\\', \\'MAPK14\\', \\'ACACB\\', \\'TBX20\\', \\'NOTCH1\\', \\'MTOR\\', \\'FGFR1\\', \\'RBPJ\\', \\'PIN1\\', \\'WT1\\', \\'PROX1\\', \\'WNT2\\', \\'BASP1\\', \\'BMP10\\', \\'HEY2\\', \\'DDX39B\\', \\'TBX5\\', \\'CDK1\\', \\'AKAP6\\', \\'FGFR2\\', \\'CCNB1\\']'</dd>\n",
       "\t<dt>$GO_HEART_FORMATION</dt>\n",
       "\t\t<dd>'[\\'FOXH1\\', \\'ISL1\\', \\'SMARCD3\\', \\'AXIN2\\', \\'BMPR1A\\', \\'RBPJ\\', \\'LEMD2\\', \\'MEF2C\\', \\'FOLR1\\', \\'MESP1\\', \\'BMP4\\', \\'SOX17\\']'</dd>\n",
       "</dl>\n"
      ],
      "text/latex": [
       "\\begin{description}\n",
       "\\item[\\$KEGG\\_CELL\\_CYCLE] '{[}\\textbackslash{}'BUB1\\textbackslash{}', \\textbackslash{}'CDC26\\textbackslash{}', \\textbackslash{}'RBL1\\textbackslash{}', \\textbackslash{}'RB1\\textbackslash{}', \\textbackslash{}'LOC728622\\textbackslash{}', \\textbackslash{}'CDC27\\textbackslash{}', \\textbackslash{}'HDAC2\\textbackslash{}', \\textbackslash{}'CDC14A\\textbackslash{}', \\textbackslash{}'ANAPC1\\textbackslash{}', \\textbackslash{}'E2F5\\textbackslash{}', \\textbackslash{}'E2F3\\textbackslash{}', \\textbackslash{}'CCND1\\textbackslash{}', \\textbackslash{}'TGFB1\\textbackslash{}', \\textbackslash{}'STAG1\\textbackslash{}', \\textbackslash{}'WEE2\\textbackslash{}', \\textbackslash{}'SMAD3\\textbackslash{}', \\textbackslash{}'LOC731751\\textbackslash{}', \\textbackslash{}'MCM4\\textbackslash{}', \\textbackslash{}'CDC45\\textbackslash{}', \\textbackslash{}'BUB1B\\textbackslash{}', \\textbackslash{}'GADD45B\\textbackslash{}', \\textbackslash{}'MYC\\textbackslash{}', \\textbackslash{}'SMAD2\\textbackslash{}', \\textbackslash{}'GADD45A\\textbackslash{}', \\textbackslash{}'CCNA1\\textbackslash{}', \\textbackslash{}'ZBTB17\\textbackslash{}', \\textbackslash{}'E2F2\\textbackslash{}', \\textbackslash{}'WEE1\\textbackslash{}', \\textbackslash{}'EP300\\textbackslash{}', \\textbackslash{}'CDC25B\\textbackslash{}', \\textbackslash{}'CDK1\\textbackslash{}', \\textbackslash{}'ESPL1\\textbackslash{}', \\textbackslash{}'PTTG2\\textbackslash{}', \\textbackslash{}'MCM7\\textbackslash{}', \\textbackslash{}'CCNB1\\textbackslash{}', \\textbackslash{}'CCNB3\\textbackslash{}', \\textbackslash{}'CDC25A\\textbackslash{}', \\textbackslash{}'PRKDC\\textbackslash{}', \\textbackslash{}'CDKN2D\\textbackslash{}', \\textbackslash{}'MAD2L1\\textbackslash{}', \\textbackslash{}'SMAD4\\textbackslash{}', \\textbackslash{}'TGFB2\\textbackslash{}', \\textbackslash{}'ANAPC13\\textbackslash{}', \\textbackslash{}'CCNB2\\textbackslash{}', \\textbackslash{}'YWHAH\\textbackslash{}', \\textbackslash{}'LOC650621\\textbackslash{}', \\textbackslash{}'CHEK2\\textbackslash{}', \\textbackslash{}'CDKN2B\\textbackslash{}', \\textbackslash{}'ANAPC10\\textbackslash{}', \\textbackslash{}'ORC1\\textbackslash{}', \\textbackslash{}'TGFB3\\textbackslash{}', \\textbackslash{}'E2F4\\textbackslash{}', \\textbackslash{}'E2F1\\textbackslash{}', \\textbackslash{}'ORC4\\textbackslash{}', \\textbackslash{}'ABL1\\textbackslash{}', \\textbackslash{}'MAD2L2\\textbackslash{}', \\textbackslash{}'YWHAB\\textbackslash{}', \\textbackslash{}'LOC651610\\textbackslash{}', \\textbackslash{}'MAD1L1\\textbackslash{}', \\textbackslash{}'TTK\\textbackslash{}', \\textbackslash{}'CDKN1A\\textbackslash{}', \\textbackslash{}'DBF4\\textbackslash{}', \\textbackslash{}'GSK3B\\textbackslash{}', \\textbackslash{}'CDC7\\textbackslash{}', \\textbackslash{}'ANAPC2\\textbackslash{}', \\textbackslash{}'TFDP1\\textbackslash{}', \\textbackslash{}'CDC6\\textbackslash{}', \\textbackslash{}'CDKN2C\\textbackslash{}', \\textbackslash{}'CCNE2\\textbackslash{}', \\textbackslash{}'ANAPC7\\textbackslash{}', \\textbackslash{}'YWHAQ\\textbackslash{}', \\textbackslash{}'CCND3\\textbackslash{}', \\textbackslash{}'SMC1A\\textbackslash{}', \\textbackslash{}'STAG2\\textbackslash{}', \\textbackslash{}'RAD21\\textbackslash{}', \\textbackslash{}'FZR1\\textbackslash{}', \\textbackslash{}'YWHAZ\\textbackslash{}', \\textbackslash{}'CDC25C\\textbackslash{}', \\textbackslash{}'CDC20\\textbackslash{}', \\textbackslash{}'MCM5\\textbackslash{}', \\textbackslash{}'CDKN1B\\textbackslash{}', \\textbackslash{}'ORC6\\textbackslash{}', \\textbackslash{}'MCM3\\textbackslash{}', \\textbackslash{}'TP53\\textbackslash{}', \\textbackslash{}'MCM6\\textbackslash{}', \\textbackslash{}'CDK4\\textbackslash{}', \\textbackslash{}'CDC16\\textbackslash{}', \\textbackslash{}'GADD45G\\textbackslash{}', \\textbackslash{}'RBL2\\textbackslash{}', \\textbackslash{}'ORC3\\textbackslash{}', \\textbackslash{}'SMC3\\textbackslash{}', \\textbackslash{}'MDM2\\textbackslash{}', \\textbackslash{}'SMC1B\\textbackslash{}', \\textbackslash{}'CDK2\\textbackslash{}', \\textbackslash{}'ORC5\\textbackslash{}', \\textbackslash{}'CDKN2A\\textbackslash{}', \\textbackslash{}'SFN\\textbackslash{}', \\textbackslash{}'CDK6\\textbackslash{}', \\textbackslash{}'YWHAE\\textbackslash{}', \\textbackslash{}'ATR\\textbackslash{}', \\textbackslash{}'CCND2\\textbackslash{}', \\textbackslash{}'ATM\\textbackslash{}', \\textbackslash{}'CUL1\\textbackslash{}', \\textbackslash{}'CCNA2\\textbackslash{}', \\textbackslash{}'CDK7\\textbackslash{}', \\textbackslash{}'PLK1\\textbackslash{}', \\textbackslash{}'PTTG1\\textbackslash{}', \\textbackslash{}'HDAC1\\textbackslash{}', \\textbackslash{}'PCNA\\textbackslash{}', \\textbackslash{}'SKP1\\textbackslash{}', \\textbackslash{}'SKP2\\textbackslash{}', \\textbackslash{}'RBX1\\textbackslash{}', \\textbackslash{}'ANAPC4\\textbackslash{}', \\textbackslash{}'CCNH\\textbackslash{}', \\textbackslash{}'ANAPC5\\textbackslash{}', \\textbackslash{}'TFDP2\\textbackslash{}', \\textbackslash{}'ORC2\\textbackslash{}', \\textbackslash{}'YWHAG\\textbackslash{}', \\textbackslash{}'PKMYT1\\textbackslash{}', \\textbackslash{}'CCNE1\\textbackslash{}', \\textbackslash{}'ANAPC11\\textbackslash{}', \\textbackslash{}'BUB3\\textbackslash{}', \\textbackslash{}'CDC23\\textbackslash{}', \\textbackslash{}'MCM2\\textbackslash{}', \\textbackslash{}'CDKN1C\\textbackslash{}', \\textbackslash{}'CHEK1\\textbackslash{}', \\textbackslash{}'CDC14B\\textbackslash{}', \\textbackslash{}'CREBBP\\textbackslash{}'{]}'\n",
       "\\item[\\$GO\\_OUTFLOW\\_TRACT\\_MORPHOGENESIS] '{[}\\textbackslash{}'HEYL\\textbackslash{}', \\textbackslash{}'WNT5A\\textbackslash{}', \\textbackslash{}'NPY2R\\textbackslash{}', \\textbackslash{}'GATA6\\textbackslash{}', \\textbackslash{}'FZD2\\textbackslash{}', \\textbackslash{}'MEF2C\\textbackslash{}', \\textbackslash{}'TBX2\\textbackslash{}', \\textbackslash{}'FOLR1\\textbackslash{}', \\textbackslash{}'HES1\\textbackslash{}', \\textbackslash{}'JUN\\textbackslash{}', \\textbackslash{}'RARB\\textbackslash{}', \\textbackslash{}'HIF1A\\textbackslash{}', \\textbackslash{}'VEGFA\\textbackslash{}', \\textbackslash{}'RYR1\\textbackslash{}', \\textbackslash{}'DHRS3\\textbackslash{}', \\textbackslash{}'ZFPM1\\textbackslash{}', \\textbackslash{}'DVL3\\textbackslash{}', \\textbackslash{}'PARVA\\textbackslash{}', \\textbackslash{}'TBX20\\textbackslash{}', \\textbackslash{}'GJA5\\textbackslash{}', \\textbackslash{}'CITED2\\textbackslash{}', \\textbackslash{}'MSX2\\textbackslash{}', \\textbackslash{}'ZFPM2\\textbackslash{}', \\textbackslash{}'HAND2\\textbackslash{}', \\textbackslash{}'PLXND1\\textbackslash{}', \\textbackslash{}'JAG1\\textbackslash{}', \\textbackslash{}'RBPJ\\textbackslash{}', \\textbackslash{}'CLDN5\\textbackslash{}', \\textbackslash{}'NPY5R\\textbackslash{}', \\textbackslash{}'NKX2-5\\textbackslash{}', \\textbackslash{}'FOXH1\\textbackslash{}', \\textbackslash{}'TBX1\\textbackslash{}', \\textbackslash{}'ISL1\\textbackslash{}', \\textbackslash{}'NEDD4\\textbackslash{}', \\textbackslash{}'FGF8\\textbackslash{}', \\textbackslash{}'NPY1R\\textbackslash{}', \\textbackslash{}'SIX1\\textbackslash{}', \\textbackslash{}'RARA\\textbackslash{}', \\textbackslash{}'SEC24B\\textbackslash{}', \\textbackslash{}'TWIST1\\textbackslash{}', \\textbackslash{}'SFRP2\\textbackslash{}', \\textbackslash{}'WNT11\\textbackslash{}', \\textbackslash{}'SOX17\\textbackslash{}', \\textbackslash{}'EYA1\\textbackslash{}', \\textbackslash{}'HEY2\\textbackslash{}', \\textbackslash{}'SOX11\\textbackslash{}', \\textbackslash{}'ATF2\\textbackslash{}', \\textbackslash{}'SEMA3C\\textbackslash{}', \\textbackslash{}'TBX3\\textbackslash{}', \\textbackslash{}'NIPBL\\textbackslash{}', \\textbackslash{}'PITX2\\textbackslash{}', \\textbackslash{}'SOX18\\textbackslash{}', \\textbackslash{}'FZD1\\textbackslash{}', \\textbackslash{}'DVL2\\textbackslash{}', \\textbackslash{}'ILK\\textbackslash{}', \\textbackslash{}'FGFR2\\textbackslash{}'{]}'\n",
       "\\item[\\$GO\\_VENTRICULAR\\_SEPTUM\\_MORPHOGENESIS] '{[}\\textbackslash{}'HEYL\\textbackslash{}', \\textbackslash{}'WNT5A\\textbackslash{}', \\textbackslash{}'FZD2\\textbackslash{}', \\textbackslash{}'HES1\\textbackslash{}', \\textbackslash{}'RBM15\\textbackslash{}', \\textbackslash{}'ZFPM1\\textbackslash{}', \\textbackslash{}'NOTCH1\\textbackslash{}', \\textbackslash{}'GJA5\\textbackslash{}', \\textbackslash{}'CITED2\\textbackslash{}', \\textbackslash{}'FGFRL1\\textbackslash{}', \\textbackslash{}'ZFPM2\\textbackslash{}', \\textbackslash{}'VANGL2\\textbackslash{}', \\textbackslash{}'NKX2-5\\textbackslash{}', \\textbackslash{}'EGLN1\\textbackslash{}', \\textbackslash{}'SAV1\\textbackslash{}', \\textbackslash{}'PROX1\\textbackslash{}', \\textbackslash{}'SMAD7\\textbackslash{}', \\textbackslash{}'WNT11\\textbackslash{}', \\textbackslash{}'HEY1\\textbackslash{}', \\textbackslash{}'SOX11\\textbackslash{}', \\textbackslash{}'HEY2\\textbackslash{}', \\textbackslash{}'SOX4\\textbackslash{}', \\textbackslash{}'TBX3\\textbackslash{}', \\textbackslash{}'WHSC1\\textbackslash{}', \\textbackslash{}'PITX2\\textbackslash{}', \\textbackslash{}'FZD1\\textbackslash{}', \\textbackslash{}'ID2\\textbackslash{}', \\textbackslash{}'FGFR2\\textbackslash{}'{]}'\n",
       "\\item[\\$GO\\_VENOUS\\_BLOOD\\_VESSEL\\_DEVELOPMENT] '{[}\\textbackslash{}'HEG1\\textbackslash{}', \\textbackslash{}'CCBE1\\textbackslash{}', \\textbackslash{}'SEMA3C\\textbackslash{}', \\textbackslash{}'ENG\\textbackslash{}', \\textbackslash{}'BMPR2\\textbackslash{}', \\textbackslash{}'ACVRL1\\textbackslash{}', \\textbackslash{}'NOTCH1\\textbackslash{}', \\textbackslash{}'PROX1\\textbackslash{}', \\textbackslash{}'TBX20\\textbackslash{}', \\textbackslash{}'PITX2\\textbackslash{}', \\textbackslash{}'ACVR2B\\textbackslash{}', \\textbackslash{}'CCM2\\textbackslash{}', \\textbackslash{}'FOXF1\\textbackslash{}', \\textbackslash{}'VEGFA\\textbackslash{}', \\textbackslash{}'NKX2-5\\textbackslash{}'{]}'\n",
       "\\item[\\$GO\\_POSITIVE\\_REGULATION\\_OF\\_HEART\\_GROWTH] '{[}\\textbackslash{}'ERBB4\\textbackslash{}', \\textbackslash{}'FGF9\\textbackslash{}', \\textbackslash{}'NRG1\\textbackslash{}', \\textbackslash{}'GATA6\\textbackslash{}', \\textbackslash{}'FGF2\\textbackslash{}', \\textbackslash{}'MEF2C\\textbackslash{}', \\textbackslash{}'TBX2\\textbackslash{}', \\textbackslash{}'MAPK14\\textbackslash{}', \\textbackslash{}'ACACB\\textbackslash{}', \\textbackslash{}'TBX20\\textbackslash{}', \\textbackslash{}'NOTCH1\\textbackslash{}', \\textbackslash{}'MTOR\\textbackslash{}', \\textbackslash{}'FGFR1\\textbackslash{}', \\textbackslash{}'RBPJ\\textbackslash{}', \\textbackslash{}'PIN1\\textbackslash{}', \\textbackslash{}'WT1\\textbackslash{}', \\textbackslash{}'PROX1\\textbackslash{}', \\textbackslash{}'WNT2\\textbackslash{}', \\textbackslash{}'BASP1\\textbackslash{}', \\textbackslash{}'BMP10\\textbackslash{}', \\textbackslash{}'HEY2\\textbackslash{}', \\textbackslash{}'DDX39B\\textbackslash{}', \\textbackslash{}'TBX5\\textbackslash{}', \\textbackslash{}'CDK1\\textbackslash{}', \\textbackslash{}'AKAP6\\textbackslash{}', \\textbackslash{}'FGFR2\\textbackslash{}', \\textbackslash{}'CCNB1\\textbackslash{}'{]}'\n",
       "\\item[\\$GO\\_HEART\\_FORMATION] '{[}\\textbackslash{}'FOXH1\\textbackslash{}', \\textbackslash{}'ISL1\\textbackslash{}', \\textbackslash{}'SMARCD3\\textbackslash{}', \\textbackslash{}'AXIN2\\textbackslash{}', \\textbackslash{}'BMPR1A\\textbackslash{}', \\textbackslash{}'RBPJ\\textbackslash{}', \\textbackslash{}'LEMD2\\textbackslash{}', \\textbackslash{}'MEF2C\\textbackslash{}', \\textbackslash{}'FOLR1\\textbackslash{}', \\textbackslash{}'MESP1\\textbackslash{}', \\textbackslash{}'BMP4\\textbackslash{}', \\textbackslash{}'SOX17\\textbackslash{}'{]}'\n",
       "\\end{description}\n"
      ],
      "text/markdown": [
       "$KEGG_CELL_CYCLE\n",
       ":   '[\\'BUB1\\', \\'CDC26\\', \\'RBL1\\', \\'RB1\\', \\'LOC728622\\', \\'CDC27\\', \\'HDAC2\\', \\'CDC14A\\', \\'ANAPC1\\', \\'E2F5\\', \\'E2F3\\', \\'CCND1\\', \\'TGFB1\\', \\'STAG1\\', \\'WEE2\\', \\'SMAD3\\', \\'LOC731751\\', \\'MCM4\\', \\'CDC45\\', \\'BUB1B\\', \\'GADD45B\\', \\'MYC\\', \\'SMAD2\\', \\'GADD45A\\', \\'CCNA1\\', \\'ZBTB17\\', \\'E2F2\\', \\'WEE1\\', \\'EP300\\', \\'CDC25B\\', \\'CDK1\\', \\'ESPL1\\', \\'PTTG2\\', \\'MCM7\\', \\'CCNB1\\', \\'CCNB3\\', \\'CDC25A\\', \\'PRKDC\\', \\'CDKN2D\\', \\'MAD2L1\\', \\'SMAD4\\', \\'TGFB2\\', \\'ANAPC13\\', \\'CCNB2\\', \\'YWHAH\\', \\'LOC650621\\', \\'CHEK2\\', \\'CDKN2B\\', \\'ANAPC10\\', \\'ORC1\\', \\'TGFB3\\', \\'E2F4\\', \\'E2F1\\', \\'ORC4\\', \\'ABL1\\', \\'MAD2L2\\', \\'YWHAB\\', \\'LOC651610\\', \\'MAD1L1\\', \\'TTK\\', \\'CDKN1A\\', \\'DBF4\\', \\'GSK3B\\', \\'CDC7\\', \\'ANAPC2\\', \\'TFDP1\\', \\'CDC6\\', \\'CDKN2C\\', \\'CCNE2\\', \\'ANAPC7\\', \\'YWHAQ\\', \\'CCND3\\', \\'SMC1A\\', \\'STAG2\\', \\'RAD21\\', \\'FZR1\\', \\'YWHAZ\\', \\'CDC25C\\', \\'CDC20\\', \\'MCM5\\', \\'CDKN1B\\', \\'ORC6\\', \\'MCM3\\', \\'TP53\\', \\'MCM6\\', \\'CDK4\\', \\'CDC16\\', \\'GADD45G\\', \\'RBL2\\', \\'ORC3\\', \\'SMC3\\', \\'MDM2\\', \\'SMC1B\\', \\'CDK2\\', \\'ORC5\\', \\'CDKN2A\\', \\'SFN\\', \\'CDK6\\', \\'YWHAE\\', \\'ATR\\', \\'CCND2\\', \\'ATM\\', \\'CUL1\\', \\'CCNA2\\', \\'CDK7\\', \\'PLK1\\', \\'PTTG1\\', \\'HDAC1\\', \\'PCNA\\', \\'SKP1\\', \\'SKP2\\', \\'RBX1\\', \\'ANAPC4\\', \\'CCNH\\', \\'ANAPC5\\', \\'TFDP2\\', \\'ORC2\\', \\'YWHAG\\', \\'PKMYT1\\', \\'CCNE1\\', \\'ANAPC11\\', \\'BUB3\\', \\'CDC23\\', \\'MCM2\\', \\'CDKN1C\\', \\'CHEK1\\', \\'CDC14B\\', \\'CREBBP\\']'\n",
       "$GO_OUTFLOW_TRACT_MORPHOGENESIS\n",
       ":   '[\\'HEYL\\', \\'WNT5A\\', \\'NPY2R\\', \\'GATA6\\', \\'FZD2\\', \\'MEF2C\\', \\'TBX2\\', \\'FOLR1\\', \\'HES1\\', \\'JUN\\', \\'RARB\\', \\'HIF1A\\', \\'VEGFA\\', \\'RYR1\\', \\'DHRS3\\', \\'ZFPM1\\', \\'DVL3\\', \\'PARVA\\', \\'TBX20\\', \\'GJA5\\', \\'CITED2\\', \\'MSX2\\', \\'ZFPM2\\', \\'HAND2\\', \\'PLXND1\\', \\'JAG1\\', \\'RBPJ\\', \\'CLDN5\\', \\'NPY5R\\', \\'NKX2-5\\', \\'FOXH1\\', \\'TBX1\\', \\'ISL1\\', \\'NEDD4\\', \\'FGF8\\', \\'NPY1R\\', \\'SIX1\\', \\'RARA\\', \\'SEC24B\\', \\'TWIST1\\', \\'SFRP2\\', \\'WNT11\\', \\'SOX17\\', \\'EYA1\\', \\'HEY2\\', \\'SOX11\\', \\'ATF2\\', \\'SEMA3C\\', \\'TBX3\\', \\'NIPBL\\', \\'PITX2\\', \\'SOX18\\', \\'FZD1\\', \\'DVL2\\', \\'ILK\\', \\'FGFR2\\']'\n",
       "$GO_VENTRICULAR_SEPTUM_MORPHOGENESIS\n",
       ":   '[\\'HEYL\\', \\'WNT5A\\', \\'FZD2\\', \\'HES1\\', \\'RBM15\\', \\'ZFPM1\\', \\'NOTCH1\\', \\'GJA5\\', \\'CITED2\\', \\'FGFRL1\\', \\'ZFPM2\\', \\'VANGL2\\', \\'NKX2-5\\', \\'EGLN1\\', \\'SAV1\\', \\'PROX1\\', \\'SMAD7\\', \\'WNT11\\', \\'HEY1\\', \\'SOX11\\', \\'HEY2\\', \\'SOX4\\', \\'TBX3\\', \\'WHSC1\\', \\'PITX2\\', \\'FZD1\\', \\'ID2\\', \\'FGFR2\\']'\n",
       "$GO_VENOUS_BLOOD_VESSEL_DEVELOPMENT\n",
       ":   '[\\'HEG1\\', \\'CCBE1\\', \\'SEMA3C\\', \\'ENG\\', \\'BMPR2\\', \\'ACVRL1\\', \\'NOTCH1\\', \\'PROX1\\', \\'TBX20\\', \\'PITX2\\', \\'ACVR2B\\', \\'CCM2\\', \\'FOXF1\\', \\'VEGFA\\', \\'NKX2-5\\']'\n",
       "$GO_POSITIVE_REGULATION_OF_HEART_GROWTH\n",
       ":   '[\\'ERBB4\\', \\'FGF9\\', \\'NRG1\\', \\'GATA6\\', \\'FGF2\\', \\'MEF2C\\', \\'TBX2\\', \\'MAPK14\\', \\'ACACB\\', \\'TBX20\\', \\'NOTCH1\\', \\'MTOR\\', \\'FGFR1\\', \\'RBPJ\\', \\'PIN1\\', \\'WT1\\', \\'PROX1\\', \\'WNT2\\', \\'BASP1\\', \\'BMP10\\', \\'HEY2\\', \\'DDX39B\\', \\'TBX5\\', \\'CDK1\\', \\'AKAP6\\', \\'FGFR2\\', \\'CCNB1\\']'\n",
       "$GO_HEART_FORMATION\n",
       ":   '[\\'FOXH1\\', \\'ISL1\\', \\'SMARCD3\\', \\'AXIN2\\', \\'BMPR1A\\', \\'RBPJ\\', \\'LEMD2\\', \\'MEF2C\\', \\'FOLR1\\', \\'MESP1\\', \\'BMP4\\', \\'SOX17\\']'\n",
       "\n",
       "\n"
      ],
      "text/plain": [
       "$KEGG_CELL_CYCLE\n",
       "[1] \"['BUB1', 'CDC26', 'RBL1', 'RB1', 'LOC728622', 'CDC27', 'HDAC2', 'CDC14A', 'ANAPC1', 'E2F5', 'E2F3', 'CCND1', 'TGFB1', 'STAG1', 'WEE2', 'SMAD3', 'LOC731751', 'MCM4', 'CDC45', 'BUB1B', 'GADD45B', 'MYC', 'SMAD2', 'GADD45A', 'CCNA1', 'ZBTB17', 'E2F2', 'WEE1', 'EP300', 'CDC25B', 'CDK1', 'ESPL1', 'PTTG2', 'MCM7', 'CCNB1', 'CCNB3', 'CDC25A', 'PRKDC', 'CDKN2D', 'MAD2L1', 'SMAD4', 'TGFB2', 'ANAPC13', 'CCNB2', 'YWHAH', 'LOC650621', 'CHEK2', 'CDKN2B', 'ANAPC10', 'ORC1', 'TGFB3', 'E2F4', 'E2F1', 'ORC4', 'ABL1', 'MAD2L2', 'YWHAB', 'LOC651610', 'MAD1L1', 'TTK', 'CDKN1A', 'DBF4', 'GSK3B', 'CDC7', 'ANAPC2', 'TFDP1', 'CDC6', 'CDKN2C', 'CCNE2', 'ANAPC7', 'YWHAQ', 'CCND3', 'SMC1A', 'STAG2', 'RAD21', 'FZR1', 'YWHAZ', 'CDC25C', 'CDC20', 'MCM5', 'CDKN1B', 'ORC6', 'MCM3', 'TP53', 'MCM6', 'CDK4', 'CDC16', 'GADD45G', 'RBL2', 'ORC3', 'SMC3', 'MDM2', 'SMC1B', 'CDK2', 'ORC5', 'CDKN2A', 'SFN', 'CDK6', 'YWHAE', 'ATR', 'CCND2', 'ATM', 'CUL1', 'CCNA2', 'CDK7', 'PLK1', 'PTTG1', 'HDAC1', 'PCNA', 'SKP1', 'SKP2', 'RBX1', 'ANAPC4', 'CCNH', 'ANAPC5', 'TFDP2', 'ORC2', 'YWHAG', 'PKMYT1', 'CCNE1', 'ANAPC11', 'BUB3', 'CDC23', 'MCM2', 'CDKN1C', 'CHEK1', 'CDC14B', 'CREBBP']\"\n",
       "\n",
       "$GO_OUTFLOW_TRACT_MORPHOGENESIS\n",
       "[1] \"['HEYL', 'WNT5A', 'NPY2R', 'GATA6', 'FZD2', 'MEF2C', 'TBX2', 'FOLR1', 'HES1', 'JUN', 'RARB', 'HIF1A', 'VEGFA', 'RYR1', 'DHRS3', 'ZFPM1', 'DVL3', 'PARVA', 'TBX20', 'GJA5', 'CITED2', 'MSX2', 'ZFPM2', 'HAND2', 'PLXND1', 'JAG1', 'RBPJ', 'CLDN5', 'NPY5R', 'NKX2-5', 'FOXH1', 'TBX1', 'ISL1', 'NEDD4', 'FGF8', 'NPY1R', 'SIX1', 'RARA', 'SEC24B', 'TWIST1', 'SFRP2', 'WNT11', 'SOX17', 'EYA1', 'HEY2', 'SOX11', 'ATF2', 'SEMA3C', 'TBX3', 'NIPBL', 'PITX2', 'SOX18', 'FZD1', 'DVL2', 'ILK', 'FGFR2']\"\n",
       "\n",
       "$GO_VENTRICULAR_SEPTUM_MORPHOGENESIS\n",
       "[1] \"['HEYL', 'WNT5A', 'FZD2', 'HES1', 'RBM15', 'ZFPM1', 'NOTCH1', 'GJA5', 'CITED2', 'FGFRL1', 'ZFPM2', 'VANGL2', 'NKX2-5', 'EGLN1', 'SAV1', 'PROX1', 'SMAD7', 'WNT11', 'HEY1', 'SOX11', 'HEY2', 'SOX4', 'TBX3', 'WHSC1', 'PITX2', 'FZD1', 'ID2', 'FGFR2']\"\n",
       "\n",
       "$GO_VENOUS_BLOOD_VESSEL_DEVELOPMENT\n",
       "[1] \"['HEG1', 'CCBE1', 'SEMA3C', 'ENG', 'BMPR2', 'ACVRL1', 'NOTCH1', 'PROX1', 'TBX20', 'PITX2', 'ACVR2B', 'CCM2', 'FOXF1', 'VEGFA', 'NKX2-5']\"\n",
       "\n",
       "$GO_POSITIVE_REGULATION_OF_HEART_GROWTH\n",
       "[1] \"['ERBB4', 'FGF9', 'NRG1', 'GATA6', 'FGF2', 'MEF2C', 'TBX2', 'MAPK14', 'ACACB', 'TBX20', 'NOTCH1', 'MTOR', 'FGFR1', 'RBPJ', 'PIN1', 'WT1', 'PROX1', 'WNT2', 'BASP1', 'BMP10', 'HEY2', 'DDX39B', 'TBX5', 'CDK1', 'AKAP6', 'FGFR2', 'CCNB1']\"\n",
       "\n",
       "$GO_HEART_FORMATION\n",
       "[1] \"['FOXH1', 'ISL1', 'SMARCD3', 'AXIN2', 'BMPR1A', 'RBPJ', 'LEMD2', 'MEF2C', 'FOLR1', 'MESP1', 'BMP4', 'SOX17']\"\n"
      ]
     },
     "metadata": {},
     "output_type": "display_data"
    }
   ],
   "source": [
    "head(pathways)"
   ]
  },
  {
   "cell_type": "code",
   "execution_count": 3,
   "metadata": {
    "collapsed": true,
    "deletable": true,
    "editable": true
   },
   "outputs": [],
   "source": [
    "generate_cluster_table <- function(cluster_path){\n",
    "    cluster_table <- read.table(file = cluster_path, sep = '\\t', header = TRUE)\n",
    "    return(cluster_table)\n",
    "}"
   ]
  },
  {
   "cell_type": "code",
   "execution_count": 4,
   "metadata": {
    "collapsed": false,
    "deletable": true,
    "editable": true
   },
   "outputs": [],
   "source": [
    "cluster_table <- generate_cluster_table(cluster_path)"
   ]
  },
  {
   "cell_type": "code",
   "execution_count": 5,
   "metadata": {
    "collapsed": true,
    "deletable": true,
    "editable": true
   },
   "outputs": [],
   "source": [
    "options(warn=-1)\n",
    "execute_fgsea <- function(gene_set_path, cluster_table, output_label){\n",
    "    \n",
    "    num_clusters <- unique(cluster_table$cluster_number)\n",
    "    pathways <- gmtPathways(gene_set_path) \n",
    "    for (cluster in num_clusters){\n",
    "        cluster_set <- cluster_table[cluster_table$cluster_number == cluster,]\n",
    "        ranks <- setNames(cluster_set$z_score, cluster_set$gene)\n",
    "        fgseaRes <- fgsea(pathways, \n",
    "                      ranks, \n",
    "                      minSize=15, \n",
    "                      maxSize=500, \n",
    "                      nperm=15000,\n",
    "                      gseaParam = 0.5)\n",
    "        output_gsea_table_file_name <- paste(output_label, cluster, \"gseaTable.png\", sep=\"_\")\n",
    "        topPathwaysUp <- fgseaRes[ES > 0, ][head(order(pval), n=5), pathway]\n",
    "        topPathwaysDown <- fgseaRes[ES < 0, ][head(order(pval), n=5), pathway]\n",
    "        topPathways <- c(topPathwaysUp, rev(topPathwaysDown))\n",
    "        \n",
    "        png(filename=output_gsea_table_file_name, \n",
    "            units=\"in\", \n",
    "            width=15, \n",
    "            height=10, \n",
    "            pointsize=12, \n",
    "            res=72)\n",
    "        plotGseaTable(pathways[topPathways], ranks, fgseaRes, gseaParam = 0.5)\n",
    "        dev.off()\n",
    "        \n",
    "        output_fgseaRes_file_name <- paste(output_label, cluster, \"fgseaRes.txt\", sep=\"_\")\n",
    "        fwrite(fgseaRes, file=output_fgseaRes_file_name, sep=\"\\t\", sep2=c(\"\", \" \", \"\")) \n",
    "    }\n",
    "}"
   ]
  },
  {
   "cell_type": "code",
   "execution_count": null,
   "metadata": {
    "collapsed": false,
    "deletable": true,
    "editable": true
   },
   "outputs": [],
   "source": [
    "execute_fgsea(gene_set_path, cluster_table, 'week_13_cluster')"
   ]
  }
 ],
 "metadata": {
  "kernelspec": {
   "display_name": "R",
   "language": "R",
   "name": "ir"
  },
  "language_info": {
   "codemirror_mode": "r",
   "file_extension": ".r",
   "mimetype": "text/x-r-source",
   "name": "R",
   "pygments_lexer": "r",
   "version": "3.3.2"
  }
 },
 "nbformat": 4,
 "nbformat_minor": 2
}
