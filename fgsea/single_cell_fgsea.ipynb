{
 "cells": [
  {
   "cell_type": "code",
   "execution_count": 1,
   "metadata": {
    "collapsed": false,
    "deletable": true,
    "editable": true
   },
   "outputs": [
    {
     "name": "stderr",
     "output_type": "stream",
     "text": [
      "Loading required package: Rcpp\n"
     ]
    }
   ],
   "source": [
    "# Imports\n",
    "\n",
    "# NOTE: ggplot2, Rcpp, fgsea, data.table, and tidyr are not native R libraries and must\n",
    "# be installed on the users machine prior to this script running.\n",
    "\n",
    "library(tidyr)\n",
    "library(fgsea)\n",
    "library(ggplot2)\n",
    "library(Rcpp)\n",
    "library(data.table)\n",
    "library(stringi)"
   ]
  },
  {
   "cell_type": "code",
   "execution_count": 2,
   "metadata": {
    "collapsed": true,
    "deletable": true,
    "editable": true
   },
   "outputs": [],
   "source": [
    "# User input path to the cluster gene set tsv file\n",
    "cluster_path <- 'week_13_no_batch_correction/gene_for_gsea_list.tsv'\n",
    "\n",
    "# User input path to the combined gene set model.\n",
    "# NOTE: This is dependent on the user or if \n",
    "# there was only one gene set that used in\n",
    "# cluster_geneset_pre-analysis\n",
    "gene_set_path <- 'gene_models/combined_genesets.gmt'"
   ]
  },
  {
   "cell_type": "code",
   "execution_count": 3,
   "metadata": {
    "collapsed": true,
    "deletable": true,
    "editable": true
   },
   "outputs": [],
   "source": [
    "### Function ###\n",
    "# Description: Load the cluster file into a R data table\n",
    "# :param cluster_path: A string that is the path to the cluster file\n",
    "# return:\n",
    "# cluster_table: A R data table that contains the clusters and their z-score ranked genes\n",
    "generate_cluster_table <- function(cluster_path){\n",
    "    cluster_table <- read.table(file = cluster_path, sep = '\\t', header = TRUE)\n",
    "    return(cluster_table)\n",
    "}"
   ]
  },
  {
   "cell_type": "code",
   "execution_count": 4,
   "metadata": {
    "collapsed": true,
    "deletable": true,
    "editable": true
   },
   "outputs": [],
   "source": [
    "### Function ###\n",
    "# Description: Compute fgsea on each cluster against the gene model in the provided files\n",
    "# and output the fgseaRes table as a txt file and plotGseaTable as a png file to the\n",
    "# users local directory.\n",
    "# :param gene_set_path: A string to the users gene model\n",
    "# :param cluster_table: A string to the users cluster file\n",
    "# :param output_label: A string that will be the suffix to the output\n",
    "# png and txt files.\n",
    "# return: None\n",
    "\n",
    "# Suppress file encoding warning (has no affect on gene set enrichment analysis)\n",
    "options(warn=-1)\n",
    "execute_fgsea <- function(gene_set_path, cluster_table, output_label){\n",
    "    # Obtain number of clusters in cluster file\n",
    "    num_clusters <- unique(cluster_table$cluster_number)\n",
    "    # Load gene set model\n",
    "    pathways <- gmtPathways(gene_set_path)\n",
    "    # Iterate through the clusters in the data table and compute fgsea\n",
    "    for (cluster in num_clusters){\n",
    "        # Subset cluster based on iteration number\n",
    "        cluster_set <- cluster_table[cluster_table$cluster_number == cluster,]\n",
    "        # Create a ranked list of that cluster's gene z-score\n",
    "        ranks <- setNames(cluster_set$z_score, cluster_set$gene)\n",
    "        # Run fgsea with default paramaters\n",
    "        fgseaRes <- fgsea(pathways, \n",
    "                      ranks, \n",
    "                      minSize=15, \n",
    "                      maxSize=500, \n",
    "                      nperm=15000,\n",
    "                      gseaParam = 0.5)\n",
    "        \n",
    "        # Output the cluster's fgsea table to the local directory\n",
    "        output_gsea_table_file_name <- paste(output_label, cluster, \"gseaTable.png\", sep=\"_\")\n",
    "        \n",
    "        # Compute the five top and bottom pathways based on fgsea's enrichment score\n",
    "        topPathwaysUp <- fgseaRes[ES > 0, ][head(order(pval), n=5), pathway]\n",
    "        topPathwaysDown <- fgseaRes[ES < 0, ][head(order(pval), n=5), pathway]\n",
    "        topPathways <- c(topPathwaysUp, rev(topPathwaysDown))\n",
    "        \n",
    "        # Generate plotGseaTable for that cluster and output the\n",
    "        # png to the local directory\n",
    "        png(filename=output_gsea_table_file_name, \n",
    "            units=\"in\", \n",
    "            width=15, \n",
    "            height=10, \n",
    "            pointsize=12, \n",
    "            res=72)\n",
    "        plotGseaTable(pathways[topPathways], ranks, fgseaRes, gseaParam = 0.5)\n",
    "        dev.off()\n",
    "        \n",
    "        # Generate an ouput fgseaRes table for that cluster\n",
    "        output_fgseaRes_file_name <- paste(output_label, cluster, \"fgseaRes.txt\", sep=\"_\")\n",
    "        fwrite(fgseaRes, file=output_fgseaRes_file_name, sep=\"\\t\", sep2=c(\"\", \" \", \"\")) \n",
    "    }\n",
    "}"
   ]
  },
  {
   "cell_type": "code",
   "execution_count": null,
   "metadata": {
    "collapsed": false,
    "deletable": true,
    "editable": true
   },
   "outputs": [],
   "source": [
    "### Executable Cell ### (Main) \n",
    "\n",
    "cluster_table <- generate_cluster_table(cluster_path)\n",
    "\n",
    "# NOTE: The last parameter is a user input for the the naming of \n",
    "# the output fgseaRes table and gsea table plot. In this case,\n",
    "# the naming was based on the week the cells were sequenced.\n",
    "execute_fgsea(gene_set_path, cluster_table, 'week_13_cluster')"
   ]
  }
 ],
 "metadata": {
  "kernelspec": {
   "display_name": "R",
   "language": "R",
   "name": "ir"
  },
  "language_info": {
   "codemirror_mode": "r",
   "file_extension": ".r",
   "mimetype": "text/x-r-source",
   "name": "R",
   "pygments_lexer": "r",
   "version": "3.3.2"
  }
 },
 "nbformat": 4,
 "nbformat_minor": 2
}
