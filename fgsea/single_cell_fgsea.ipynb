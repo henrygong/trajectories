{
 "cells": [
  {
   "cell_type": "code",
   "execution_count": 1,
   "metadata": {
    "collapsed": false,
    "deletable": true,
    "editable": true
   },
   "outputs": [
    {
     "name": "stderr",
     "output_type": "stream",
     "text": [
      "Loading required package: Rcpp\n"
     ]
    }
   ],
   "source": [
    "library(tidyr)\n",
    "library(fgsea)\n",
    "library(ggplot2)\n",
    "library(Rcpp)\n",
    "library(data.table)\n",
    "library(stringi)"
   ]
  },
  {
   "cell_type": "code",
   "execution_count": 2,
   "metadata": {
    "collapsed": true,
    "deletable": true,
    "editable": true
   },
   "outputs": [],
   "source": [
    "cluster_path <- '/home/jovyan/work/single_cell/week_11_no_batch_correction/gene_for_gsea_list.tsv'\n",
    "gene_set_path <- 'combined_genesets.gmt'"
   ]
  },
  {
   "cell_type": "code",
   "execution_count": 3,
   "metadata": {
    "collapsed": false,
    "deletable": true,
    "editable": true
   },
   "outputs": [],
   "source": [
    "pathways <- gmtPathways(gene_set_path) "
   ]
  },
  {
   "cell_type": "code",
   "execution_count": 4,
   "metadata": {
    "collapsed": true,
    "deletable": true,
    "editable": true
   },
   "outputs": [],
   "source": [
    "generate_cluster_table <- function(cluster_path){\n",
    "    cluster_table <- read.table(file = cluster_path, sep = '\\t', header = TRUE)\n",
    "    return(cluster_table)\n",
    "}"
   ]
  },
  {
   "cell_type": "code",
   "execution_count": 5,
   "metadata": {
    "collapsed": false,
    "deletable": true,
    "editable": true
   },
   "outputs": [],
   "source": [
    "cluster_table <- generate_cluster_table(cluster_path)"
   ]
  },
  {
   "cell_type": "code",
   "execution_count": 6,
   "metadata": {
    "collapsed": true,
    "deletable": true,
    "editable": true
   },
   "outputs": [],
   "source": [
    "options(warn=-1)\n",
    "execute_fgsea <- function(gene_set_path, cluster_table, output_label){\n",
    "    \n",
    "    num_clusters <- unique(cluster_table$cluster_number)\n",
    "    pathways <- gmtPathways(gene_set_path) \n",
    "    for (cluster in num_clusters){\n",
    "        cluster_set <- cluster_table[cluster_table$cluster_number == cluster,]\n",
    "        ranks <- setNames(cluster_set$z_score, cluster_set$gene)\n",
    "        fgseaRes <- fgsea(pathways, \n",
    "                      ranks, \n",
    "                      minSize=15, \n",
    "                      maxSize=500, \n",
    "                      nperm=15000,\n",
    "                      gseaParam = 0.5)\n",
    "        output_gsea_table_file_name <- paste(output_label, cluster, \"gseaTable.png\", sep=\"_\")\n",
    "        topPathwaysUp <- fgseaRes[ES > 0, ][head(order(pval), n=5), pathway]\n",
    "        topPathwaysDown <- fgseaRes[ES < 0, ][head(order(pval), n=5), pathway]\n",
    "        topPathways <- c(topPathwaysUp, rev(topPathwaysDown))\n",
    "        \n",
    "        png(filename=output_gsea_table_file_name, \n",
    "            units=\"in\", \n",
    "            width=15, \n",
    "            height=10, \n",
    "            pointsize=12, \n",
    "            res=72)\n",
    "        plotGseaTable(pathways[topPathways], ranks, fgseaRes, gseaParam = 0.5)\n",
    "        dev.off()\n",
    "        \n",
    "        output_fgseaRes_file_name <- paste(output_label, cluster, \"fgseaRes.txt\", sep=\"_\")\n",
    "        fwrite(fgseaRes, file=output_fgseaRes_file_name, sep=\"\\t\", sep2=c(\"\", \" \", \"\")) \n",
    "    }\n",
    "}"
   ]
  },
  {
   "cell_type": "code",
   "execution_count": 7,
   "metadata": {
    "collapsed": false,
    "deletable": true,
    "editable": true
   },
   "outputs": [],
   "source": [
    "execute_fgsea(gene_set_path, cluster_table, 'week_11_cluster')"
   ]
  }
 ],
 "metadata": {
  "kernelspec": {
   "display_name": "R",
   "language": "R",
   "name": "ir"
  },
  "language_info": {
   "codemirror_mode": "r",
   "file_extension": ".r",
   "mimetype": "text/x-r-source",
   "name": "R",
   "pygments_lexer": "r",
   "version": "3.3.2"
  }
 },
 "nbformat": 4,
 "nbformat_minor": 2
}
