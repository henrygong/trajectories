{
 "cells": [
  {
   "cell_type": "code",
   "execution_count": 1,
   "metadata": {
    "collapsed": true,
    "deletable": true,
    "editable": true
   },
   "outputs": [],
   "source": [
    "# Imports\n",
    "%matplotlib inline\n",
    "import glob\n",
    "import pandas as pd"
   ]
  },
  {
   "cell_type": "code",
   "execution_count": 2,
   "metadata": {
    "collapsed": true,
    "deletable": true,
    "editable": true
   },
   "outputs": [],
   "source": [
    "# User Input\n",
    "cluster_path = '/home/jovyan/work/single_cell/week_13_no_batch_correction/gene_for_gsea_list.tsv'\n",
    "gene_set_path = '/data/scratch/tmpcopy/go_heart.gmt'"
   ]
  },
  {
   "cell_type": "code",
   "execution_count": 3,
   "metadata": {
    "collapsed": false,
    "deletable": true,
    "editable": true
   },
   "outputs": [
    {
     "name": "stdout",
     "output_type": "stream",
     "text": [
      "Loaded 45 gene sets\n",
      "Total number of genes: 707\n"
     ]
    }
   ],
   "source": [
    "gene_sets = dict()\n",
    "total = set()\n",
    "with open(gene_set_path) as file:\n",
    "    for line in file:\n",
    "        line = line.strip().split('\\t')\n",
    "        set_name = line[1]\n",
    "        gene_subset = set(line[2:])\n",
    "        gene_sets[set_name] = gene_subset\n",
    "        \n",
    "        for items in line[2:]:\n",
    "            total.add(items)\n",
    "            \n",
    "print(\"Loaded %d gene sets\" % len(gene_sets))\n",
    "print(\"Total number of genes: {}\".format(len(total)))"
   ]
  },
  {
   "cell_type": "code",
   "execution_count": 4,
   "metadata": {
    "collapsed": true,
    "deletable": true,
    "editable": true
   },
   "outputs": [],
   "source": [
    "def load_cluster(cluster_path):\n",
    "    \"\"\"\n",
    "    Load cluster output file into a pandas dataframe\n",
    "    \"\"\"\n",
    "    if glob.glob(cluster_path):\n",
    "        cluster_df = pd.read_csv(cluster_path, sep='\\t')\n",
    "        cluster_df = cluster_df.set_index('cluster_number')\n",
    "        return cluster_df\n",
    "    else:\n",
    "        print(\"The path provided does not contain cluster output file!\")"
   ]
  },
  {
   "cell_type": "code",
   "execution_count": 5,
   "metadata": {
    "collapsed": true,
    "deletable": true,
    "editable": true
   },
   "outputs": [],
   "source": [
    "def intersection(cluster_df):\n",
    "    cluster_list = list(set(cluster_df.index.tolist()))\n",
    "    cluster_zero = cluster_df.loc[cluster_list[0]]\n",
    "    cluster_zero_genes = set(cluster_zero['gene'])\n",
    "    number_of_interesecting = cluster_zero_genes.intersection(total)\n",
    "    print(len(number_of_interesecting))\n",
    "    print(number_of_interesecting)"
   ]
  },
  {
   "cell_type": "code",
   "execution_count": 6,
   "metadata": {
    "collapsed": true,
    "deletable": true,
    "editable": true
   },
   "outputs": [],
   "source": [
    "def main(cluster_path):\n",
    "    cluster_df = load_cluster(cluster_path)\n",
    "    intersection(cluster_df)"
   ]
  },
  {
   "cell_type": "code",
   "execution_count": 7,
   "metadata": {
    "collapsed": false,
    "deletable": true,
    "editable": true
   },
   "outputs": [
    {
     "name": "stdout",
     "output_type": "stream",
     "text": [
      "189\n",
      "{'PDLIM3', 'PKP2', 'RGS2', 'TAC1', 'PLXNA4', 'TMEM100', 'GJA1', 'NRP2', 'SMYD1', 'HES1', 'EDN1', 'PAM', 'ACE', 'SOX9', 'ATP1B1', 'CORIN', 'COL2A1', 'ZC3H12A', 'MSX1', 'HEY2', 'MEF2C', 'SCN5A', 'CAV1', 'HEYL', 'NPPC', 'SORBS2', 'MYBPC3', 'CTGF', 'FOXC1', 'HOPX', 'XIRP1', 'MB', 'CASQ2', 'PDLIM5', 'DLL4', 'APOE', 'KCNK6', 'NKX2-5', 'RBM20', 'BVES', 'PCNA', 'NOTCH3', 'ATP1A2', 'CRIP1', 'HEG1', 'FOXC2', 'ADM', 'ADORA1', 'CSRP3', 'AGT', 'IRX5', 'GFRA3', 'BMP2', 'LEFTY1', 'ADAMTS1', 'PDGFRB', 'S1PR1', 'JAG1', 'ALPK3', 'DKK1', 'PDGFB', 'TNNI3K', 'TCAP', 'HEY1', 'GATA2', 'HAS2', 'RYR3', 'PDE4B', 'CPE', 'ERBB4', 'FLRT3', 'DHRS3', 'ALDH1A2', 'SOX17', 'ERBB3', 'DUSP6', 'FGF12', 'CDK1', 'SEMA3C', 'TBX2', 'NPR1', 'CCNB1', 'RNF207', 'KCNA5', 'CYR61', 'DES', 'CACNA1G', 'DLL1', 'VEGFA', 'KCNAB1', 'OSR1', 'APLN', 'HBEGF', 'FHL2', 'TEK', 'RAMP3', 'ADAMTS6', 'LRRC10', 'KCNJ2', 'SNTA1', 'SNAI2', 'TNNI1', 'NRG1', 'BASP1', 'COL11A1', 'TBX5', 'PRDM1', 'XIRP2', 'RDH10', 'NEXN', 'AKAP6', 'ID1', 'ERG', 'PRRX1', 'ABCC9', 'ANKRD1', 'HPGD', 'NRP1', 'CLDN5', 'CHRM2', 'ATP2A2', 'ADAM15', 'CALCRL', 'SHOX2', 'HAND1', 'GPX1', 'HOXA3', 'CXCR4', 'MYH11', 'PHOX2B', 'RYR2', 'HSPB7', 'PROX1', 'EPAS1', 'CXADR', 'EFNA1', 'GPC3', 'DSP', 'MYL3', 'AVPR1A', 'MYH6', 'HHEX', 'ACTN2', 'SMAD6', 'PITX2', 'MSX2', 'HTR2B', 'MYLK', 'RAMP2', 'KDM6B', 'KCND3', 'HCN4', 'KCNH2', 'SOX18', 'SOX11', 'TRDN', 'TBX3', 'SLC8A3', 'LOX', 'ITPR2', 'CTNNA3', 'KCNJ8', 'MYL2', 'AGTR2', 'CLIC2', 'LOXL1', 'PTGER4', 'NEBL', 'ENG', 'ADAP2', 'PLN', 'FREM2', 'MYOCD', 'STC1', 'ECE1', 'MYLK3', 'APLNR', 'SLC8A1', 'GJA5', 'FGF9', 'TTN', 'SEMA3A', 'TNNI3', 'IRX4', 'COL5A1', 'MYH7', 'NTRK3', 'FHOD3', 'PLXND1'}\n"
     ]
    }
   ],
   "source": [
    "cluster_df = main(cluster_path)"
   ]
  }
 ],
 "metadata": {
  "kernelspec": {
   "display_name": "Python 3",
   "language": "python",
   "name": "python3"
  },
  "language_info": {
   "codemirror_mode": {
    "name": "ipython",
    "version": 3
   },
   "file_extension": ".py",
   "mimetype": "text/x-python",
   "name": "python",
   "nbconvert_exporter": "python",
   "pygments_lexer": "ipython3",
   "version": "3.5.2"
  }
 },
 "nbformat": 4,
 "nbformat_minor": 2
}
