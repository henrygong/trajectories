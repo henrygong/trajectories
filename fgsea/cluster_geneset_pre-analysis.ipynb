{
 "cells": [
  {
   "cell_type": "code",
   "execution_count": 1,
   "metadata": {
    "collapsed": true,
    "deletable": true,
    "editable": true
   },
   "outputs": [],
   "source": [
    "# Imports\n",
    "%matplotlib inline\n",
    "import csv\n",
    "import glob\n",
    "import json\n",
    "import pandas as pd"
   ]
  },
  {
   "cell_type": "code",
   "execution_count": 2,
   "metadata": {
    "collapsed": true,
    "deletable": true,
    "editable": true
   },
   "outputs": [],
   "source": [
    "# User Input\n",
    "cluster_path = '/home/jovyan/work/single_cell/week_13_no_batch_correction/gene_for_gsea_list.tsv'\n",
    "\n",
    "# List of available genesets\n",
    "gene_set_path = ['go_heart.gmt', 'KEGG_CELL_Cycle.gmt', 'ex.gmt']"
   ]
  },
  {
   "cell_type": "code",
   "execution_count": 3,
   "metadata": {
    "collapsed": true,
    "deletable": true,
    "editable": true
   },
   "outputs": [],
   "source": [
    "def load_gene_set(gene_set_path):\n",
    "    gene_sets = dict()\n",
    "    total = set()\n",
    "    for paths in gene_set_path:\n",
    "        if glob.glob(paths):\n",
    "            with open(paths) as file:\n",
    "                for line in file:\n",
    "                    line = line.strip().split('\\t')\n",
    "                    set_name = line[0]\n",
    "                    set_description = line[1]\n",
    "                    gene_subset = set(line[2:])\n",
    "                    gene_sets[set_name] = [set_description, gene_subset]\n",
    "                    for items in line[2:]:\n",
    "                        total.add(items)\n",
    "        else:\n",
    "            print(\"The path provided does not contain geneset: {}\".format(paths))\n",
    "\n",
    "    print(\"Loaded %d gene sets\" % len(gene_sets))\n",
    "    print(\"Total number of genes: {}\".format(len(total)))   \n",
    "    return gene_sets, total"
   ]
  },
  {
   "cell_type": "code",
   "execution_count": 4,
   "metadata": {
    "collapsed": true,
    "deletable": true,
    "editable": true
   },
   "outputs": [],
   "source": [
    "def load_cluster(cluster_path):\n",
    "    \"\"\"\n",
    "    Load cluster output file into a pandas dataframe\n",
    "    \"\"\"\n",
    "    if glob.glob(cluster_path):\n",
    "        cluster_df = pd.read_csv(cluster_path, sep='\\t')\n",
    "        cluster_df = cluster_df.set_index('cluster_number')\n",
    "        return cluster_df\n",
    "    else:\n",
    "        print(\"The path provided does not contain cluster output file!\")"
   ]
  },
  {
   "cell_type": "code",
   "execution_count": 5,
   "metadata": {
    "collapsed": true,
    "deletable": true,
    "editable": true
   },
   "outputs": [],
   "source": [
    "def intersection(cluster_df, total):\n",
    "    cluster_list = list(set(cluster_df.index.tolist()))\n",
    "    cluster_zero = cluster_df.loc[cluster_list[0]]\n",
    "    cluster_zero_genes = set(cluster_zero['gene'])\n",
    "    number_of_interesecting = cluster_zero_genes.intersection(total)\n",
    "    print(\"Total number of unique genes in genesets: {}\".format(len(number_of_interesecting)))\n",
    "    print(\"Intersecting genes:\")\n",
    "    print(number_of_interesecting)"
   ]
  },
  {
   "cell_type": "code",
   "execution_count": 6,
   "metadata": {
    "collapsed": false,
    "deletable": true,
    "editable": true
   },
   "outputs": [],
   "source": [
    "def output_combined_gmt_file(gene_dict):\n",
    "    with open ('combined_genesets.gmt', \"a\") as f:\n",
    "        for key, value in gene_dict.items():\n",
    "            f.write(\"{}\\t{}\\t{}\\n\".format(key,value[0], '\\t'.join(map(str,value[1]))))"
   ]
  },
  {
   "cell_type": "code",
   "execution_count": 7,
   "metadata": {
    "collapsed": true,
    "deletable": true,
    "editable": true
   },
   "outputs": [],
   "source": [
    "def main(cluster_path, gene_set_path):\n",
    "    gene_sets, total = load_gene_set(gene_set_path)\n",
    "    cluster_df = load_cluster(cluster_path)\n",
    "    intersection(cluster_df, total)\n",
    "    output_combined_gmt_file(gene_sets)\n",
    "    return gene_sets"
   ]
  },
  {
   "cell_type": "code",
   "execution_count": 8,
   "metadata": {
    "collapsed": false,
    "deletable": true,
    "editable": true,
    "scrolled": false
   },
   "outputs": [
    {
     "name": "stdout",
     "output_type": "stream",
     "text": [
      "The path provided does not contain geneset: ex.gmt\n",
      "Loaded 46 gene sets\n",
      "Total number of genes: 821\n",
      "Total number of unique genes in genesets: 209\n",
      "Intersecting genes:\n",
      "{'SCN5A', 'GADD45G', 'CASQ2', 'ADAMTS1', 'TEK', 'COL5A1', 'GADD45B', 'CDKN2D', 'CDC20', 'SMAD6', 'TTN', 'HSPB7', 'MYLK', 'HEY2', 'HPGD', 'CCNA2', 'ADAM15', 'IRX4', 'PDE4B', 'AVPR1A', 'SEMA3C', 'SLC8A3', 'PTGER4', 'FLRT3', 'ACE', 'ALPK3', 'MYH6', 'BMP2', 'VEGFA', 'SMYD1', 'HEY1', 'LOXL1', 'SOX18', 'HOPX', 'ITPR2', 'CHRM2', 'CSRP3', 'RDH10', 'FREM2', 'PDLIM5', 'LEFTY1', 'HHEX', 'IRX5', 'FOXC2', 'PITX2', 'CDKN1A', 'BASP1', 'PLK1', 'NRG1', 'ERBB4', 'XIRP2', 'MAD2L1', 'PAM', 'RYR2', 'MYBPC3', 'ADAMTS6', 'FHOD3', 'RBM20', 'MEF2C', 'SEMA3A', 'NKX2-5', 'ABCC9', 'CORIN', 'KCND3', 'S1PR1', 'AKAP6', 'MYL2', 'CACNA1G', 'PHOX2B', 'SHOX2', 'CALCRL', 'DKK1', 'CLDN5', 'SNAI2', 'JAG1', 'MYL3', 'PLXNA4', 'ATP1A2', 'CPE', 'TAC1', 'CRIP1', 'HTR2B', 'DES', 'TBX5', 'SNTA1', 'ATP1B1', 'CCND1', 'HOXA3', 'ERG', 'ECE1', 'SORBS2', 'AGT', 'CCNB1', 'XIRP1', 'GFRA3', 'PKP2', 'PDGFRB', 'COL2A1', 'ADORA1', 'CYR61', 'DLL4', 'PRDM1', 'FHL2', 'APOE', 'GJA5', 'CXADR', 'BUB1', 'ATP2A2', 'TBX2', 'KDM6B', 'MB', 'NPR1', 'HAND1', 'KCNK6', 'PCNA', 'PRRX1', 'EDN1', 'FGF12', 'TTK', 'TMEM100', 'MSX2', 'TNNI3', 'NRP1', 'NEBL', 'NTRK3', 'KCNH2', 'PDLIM3', 'RGS2', 'HEG1', 'LRRC10', 'CDC25B', 'RAMP2', 'MCM5', 'PLN', 'HCN4', 'OSR1', 'CXCR4', 'CCNB2', 'TNNI3K', 'PLXND1', 'KCNJ8', 'PTTG1', 'ID1', 'KCNAB1', 'RNF207', 'TBX3', 'GPX1', 'ADAP2', 'CLIC2', 'KCNJ2', 'STC1', 'CTNNA3', 'ADM', 'NRP2', 'MYLK3', 'GADD45A', 'NOTCH3', 'CDK1', 'RYR3', 'MYH11', 'DHRS3', 'DBF4', 'NEXN', 'FOXC1', 'HEYL', 'SOX11', 'DLL1', 'RB1', 'ALDH1A2', 'HES1', 'TNNI1', 'NPPC', 'SOX9', 'ANKRD1', 'SOX17', 'AGTR2', 'EFNA1', 'GPC3', 'MYC', 'MSX1', 'GJA1', 'ERBB3', 'PDGFB', 'HBEGF', 'BVES', 'DUSP6', 'ZC3H12A', 'CAV1', 'RAMP3', 'APLNR', 'ACTN2', 'COL11A1', 'CTGF', 'HAS2', 'GATA2', 'TCAP', 'SLC8A1', 'ENG', 'APLN', 'MYH7', 'PROX1', 'CDKN2C', 'FGF9', 'DSP', 'EPAS1', 'MYOCD', 'KCNA5', 'TRDN', 'LOX'}\n"
     ]
    }
   ],
   "source": [
    "gene_sets = main(cluster_path, gene_set_path)"
   ]
  }
 ],
 "metadata": {
  "kernelspec": {
   "display_name": "Python 3",
   "language": "python",
   "name": "python3"
  },
  "language_info": {
   "codemirror_mode": {
    "name": "ipython",
    "version": 3
   },
   "file_extension": ".py",
   "mimetype": "text/x-python",
   "name": "python",
   "nbconvert_exporter": "python",
   "pygments_lexer": "ipython3",
   "version": "3.5.2"
  }
 },
 "nbformat": 4,
 "nbformat_minor": 2
}
