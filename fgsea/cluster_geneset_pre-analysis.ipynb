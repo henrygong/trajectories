{
 "cells": [
  {
   "cell_type": "code",
   "execution_count": 1,
   "metadata": {
    "collapsed": true,
    "deletable": true,
    "editable": true
   },
   "outputs": [],
   "source": [
    "# Imports\n",
    "%matplotlib inline\n",
    "import csv\n",
    "import glob\n",
    "import json\n",
    "import pandas as pd"
   ]
  },
  {
   "cell_type": "code",
   "execution_count": 2,
   "metadata": {
    "collapsed": true,
    "deletable": true,
    "editable": true
   },
   "outputs": [],
   "source": [
    "# User Input\n",
    "cluster_path = '/home/jovyan/work/single_cell/week_13_no_batch_correction/gene_for_gsea_list.tsv'\n",
    "\n",
    "# List of available genesets\n",
    "gene_set_path = ['go_heart.gmt', 'KEGG_CELL_Cycle.gmt', 'ex.gmt']"
   ]
  },
  {
   "cell_type": "code",
   "execution_count": 3,
   "metadata": {
    "collapsed": true
   },
   "outputs": [],
   "source": [
    "def load_gene_set(gene_set_path):\n",
    "    gene_sets = dict()\n",
    "    total = set()\n",
    "    for paths in gene_set_path:\n",
    "        if glob.glob(paths):\n",
    "            with open(paths) as file:\n",
    "                for line in file:\n",
    "                    line = line.strip().split('\\t')\n",
    "                    set_name = line[0]\n",
    "                    set_description = line[1]\n",
    "                    gene_subset = set(line[2:])\n",
    "                    gene_sets[set_name] = [set_description, gene_subset]\n",
    "                    for items in line[2:]:\n",
    "                        total.add(items)\n",
    "        else:\n",
    "            print(\"The path provided does not contain geneset: {}\".format(paths))\n",
    "\n",
    "    print(\"Loaded %d gene sets\" % len(gene_sets))\n",
    "    print(\"Total number of genes: {}\".format(len(total)))   \n",
    "    return gene_sets, total"
   ]
  },
  {
   "cell_type": "code",
   "execution_count": 4,
   "metadata": {
    "collapsed": true,
    "deletable": true,
    "editable": true
   },
   "outputs": [],
   "source": [
    "def load_cluster(cluster_path):\n",
    "    \"\"\"\n",
    "    Load cluster output file into a pandas dataframe\n",
    "    \"\"\"\n",
    "    if glob.glob(cluster_path):\n",
    "        cluster_df = pd.read_csv(cluster_path, sep='\\t')\n",
    "        cluster_df = cluster_df.set_index('cluster_number')\n",
    "        return cluster_df\n",
    "    else:\n",
    "        print(\"The path provided does not contain cluster output file!\")"
   ]
  },
  {
   "cell_type": "code",
   "execution_count": 5,
   "metadata": {
    "collapsed": true,
    "deletable": true,
    "editable": true
   },
   "outputs": [],
   "source": [
    "def intersection(cluster_df, total):\n",
    "    cluster_list = list(set(cluster_df.index.tolist()))\n",
    "    cluster_zero = cluster_df.loc[cluster_list[0]]\n",
    "    cluster_zero_genes = set(cluster_zero['gene'])\n",
    "    number_of_interesecting = cluster_zero_genes.intersection(total)\n",
    "    print(\"Total number of unique genes in genesets: {}\".format(len(number_of_interesecting)))\n",
    "    print(\"Intersecting genes:\")\n",
    "    print(number_of_interesecting)"
   ]
  },
  {
   "cell_type": "code",
   "execution_count": 27,
   "metadata": {
    "collapsed": true
   },
   "outputs": [],
   "source": [
    "def output_combined_gmt_file(gene_dict):\n",
    "    with open ('combined_genesets.gmt', \"a\") as f:\n",
    "        for key, value in gene_sets.items():\n",
    "            f.write(\"{}\\t{}\\n\".format(key,value))\n",
    "#             f.write(\"{}\\t{}\\n\".format(key[0], value))"
   ]
  },
  {
   "cell_type": "code",
   "execution_count": 25,
   "metadata": {
    "collapsed": true,
    "deletable": true,
    "editable": true
   },
   "outputs": [],
   "source": [
    "def main(cluster_path, gene_set_path):\n",
    "    gene_sets, total = load_gene_set(gene_set_path)\n",
    "    cluster_df = load_cluster(cluster_path)\n",
    "    intersection(cluster_df, total)\n",
    "    output_combined_gmt_file(gene_sets)\n",
    "    return gene_sets"
   ]
  },
  {
   "cell_type": "code",
   "execution_count": 14,
   "metadata": {
    "collapsed": false
   },
   "outputs": [],
   "source": [
    "# for items, values in gene_sets.items():\n",
    "#     print(items, values[0])\n",
    "#     for items in values[1]:\n",
    "#         print(items)\n",
    "#     break"
   ]
  },
  {
   "cell_type": "code",
   "execution_count": 28,
   "metadata": {
    "collapsed": false,
    "deletable": true,
    "editable": true,
    "scrolled": false
   },
   "outputs": [
    {
     "name": "stdout",
     "output_type": "stream",
     "text": [
      "The path provided does not contain geneset: ex.gmt\n",
      "Loaded 46 gene sets\n",
      "Total number of genes: 821\n",
      "Total number of unique genes in genesets: 209\n",
      "Intersecting genes:\n",
      "{'PTGER4', 'CXADR', 'GJA1', 'AGT', 'COL5A1', 'HEG1', 'BVES', 'ADM', 'DLL1', 'NKX2-5', 'EDN1', 'PAM', 'SLC8A3', 'KCNH2', 'PLK1', 'HEY2', 'FHOD3', 'ADAMTS1', 'STC1', 'RDH10', 'CCND1', 'PLN', 'CLIC2', 'SOX11', 'MYOCD', 'ERBB3', 'ADAP2', 'GFRA3', 'TBX2', 'FOXC2', 'CDKN1A', 'SCN5A', 'MYH7', 'PDGFB', 'NRG1', 'CXCR4', 'DSP', 'MYLK', 'NPPC', 'ITPR2', 'S1PR1', 'GADD45B', 'MSX1', 'COL11A1', 'XIRP1', 'ATP2A2', 'GADD45A', 'CCNA2', 'CORIN', 'SOX17', 'TRDN', 'CLDN5', 'AVPR1A', 'NRP1', 'BMP2', 'MYL2', 'NRP2', 'FGF9', 'ACE', 'MEF2C', 'FGF12', 'CHRM2', 'MAD2L1', 'ZC3H12A', 'KCNJ2', 'MYC', 'CDKN2C', 'KCNA5', 'SHOX2', 'ALPK3', 'VEGFA', 'PCNA', 'CTNNA3', 'NOTCH3', 'FHL2', 'SMYD1', 'HPGD', 'PHOX2B', 'CALCRL', 'AKAP6', 'IRX5', 'PDLIM3', 'TNNI1', 'PDGFRB', 'RNF207', 'TCAP', 'PLXNA4', 'BUB1', 'AGTR2', 'NTRK3', 'SOX18', 'DUSP6', 'HES1', 'MYLK3', 'MSX2', 'HAND1', 'RYR3', 'HHEX', 'EPAS1', 'SNAI2', 'GPC3', 'ATP1A2', 'DES', 'KCNK6', 'RGS2', 'HOPX', 'LOXL1', 'ERBB4', 'CDC25B', 'RB1', 'FREM2', 'KCND3', 'TMEM100', 'ERG', 'CTGF', 'LOX', 'TTK', 'SORBS2', 'GJA5', 'CAV1', 'EFNA1', 'CDK1', 'ECE1', 'GPX1', 'ANKRD1', 'OSR1', 'RYR2', 'CCNB1', 'HOXA3', 'FLRT3', 'TTN', 'DHRS3', 'SEMA3C', 'ADAM15', 'SLC8A1', 'NEXN', 'PDE4B', 'HBEGF', 'HEYL', 'ATP1B1', 'PKP2', 'CACNA1G', 'XIRP2', 'RBM20', 'CDC20', 'ADAMTS6', 'COL2A1', 'DLL4', 'PLXND1', 'PDLIM5', 'DKK1', 'ALDH1A2', 'SEMA3A', 'TBX5', 'HAS2', 'SNTA1', 'MYL3', 'DBF4', 'CASQ2', 'BASP1', 'MCM5', 'LEFTY1', 'RAMP3', 'CDKN2D', 'CYR61', 'GADD45G', 'HTR2B', 'ENG', 'MYH6', 'LRRC10', 'TNNI3', 'MB', 'APOE', 'PRRX1', 'TEK', 'ACTN2', 'CSRP3', 'GATA2', 'FOXC1', 'SMAD6', 'ID1', 'ABCC9', 'APLNR', 'SOX9', 'APLN', 'PTTG1', 'KCNAB1', 'MYBPC3', 'PITX2', 'NPR1', 'KDM6B', 'CPE', 'IRX4', 'HEY1', 'ADORA1', 'NEBL', 'PROX1', 'MYH11', 'CRIP1', 'JAG1', 'CCNB2', 'TBX3', 'HCN4', 'KCNJ8', 'TAC1', 'HSPB7', 'TNNI3K', 'RAMP2', 'PRDM1'}\n"
     ]
    }
   ],
   "source": [
    "gene_sets = main(cluster_path, gene_set_path)"
   ]
  }
 ],
 "metadata": {
  "kernelspec": {
   "display_name": "Python 3",
   "language": "python",
   "name": "python3"
  },
  "language_info": {
   "codemirror_mode": {
    "name": "ipython",
    "version": 3
   },
   "file_extension": ".py",
   "mimetype": "text/x-python",
   "name": "python",
   "nbconvert_exporter": "python",
   "pygments_lexer": "ipython3",
   "version": "3.5.2"
  }
 },
 "nbformat": 4,
 "nbformat_minor": 2
}
