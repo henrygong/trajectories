{
 "cells": [
  {
   "cell_type": "markdown",
   "metadata": {},
   "source": [
    "# Synapse Setup\n",
    "\n",
    "This notebook is not setup to run, instead these commands are meant to be copied into a Python shell."
   ]
  },
  {
   "cell_type": "code",
   "execution_count": null,
   "metadata": {},
   "outputs": [],
   "source": [
    "import glob\n",
    "import synapseclient\n",
    "from synapseclient import Wiki, File, Project, Folder\n",
    "\n",
    "syn = synapseclient.login()\n",
    "\n",
    "myProject = syn.store(Project(name=\"chiCardiomyocyteHub\"))\n",
    "\n",
    "######\n",
    "\n",
    "notebook_folder = Folder(name='Notebooks', parent=myProject)\n",
    "notebook_folder = syn.store(notebook_folder)\n",
    "\n",
    "script_folder = Folder(name='Scripts', parent=myProject)\n",
    "script_folder = syn.store(script_folder)\n",
    "\n",
    "reference_folder = Folder(name='Reference_Files', parent=myProject)\n",
    "reference_folder = syn.store(reference_folder)\n",
    "\n",
    "######\n",
    "\n",
    "data_folder = Folder(name='Data', parent=myProject)\n",
    "data_folder = syn.store(data_folder)\n",
    "\n",
    "in_vivo = Folder(name='in_vivo_HoC_version_0.5', parent=data_folder)\n",
    "in_vivo = syn.store(in_vivo)\n",
    "\n",
    "in_vitro = Folder(name='in_vitro_HoC_version_0.5', parent=data_folder)\n",
    "in_vitro = syn.store(in_vitro)\n",
    "\n",
    "concatenated_in_vitro = Folder(name='concatenated_in_vitro_HoC_version_0.5', parent=data_folder)\n",
    "concatenated_in_vitro = syn.store(concatenated_in_vitro)\n",
    "\n",
    "######\n",
    "\n",
    "prev_folder = Folder(name='previous_versions', parent=data_folder)\n",
    "prev_folder = syn.store(data_folder)"
   ]
  },
  {
   "cell_type": "markdown",
   "metadata": {},
   "source": [
    "# Version 0.5"
   ]
  },
  {
   "cell_type": "code",
   "execution_count": null,
   "metadata": {},
   "outputs": [],
   "source": [
    "# Data and figure upload\n",
    "for dirs in glob.glob('in_vivo_HoC_version_0.5/*'):\n",
    "    batch_dir = Folder(name=dirs.split('/')[-1], parent=in_vivo)\n",
    "    batch_dir = syn.store(batch_dir)\n",
    "    if dirs.split(\"/\")[-1] == 'preprocessing_summary':\n",
    "        preprocessing_sub_dir = Folder(name=dirs.split('/')[-1], parent=in_vivo)\n",
    "        preprocessing_sub_dir = syn.store(preprocessing_sub_dir)\n",
    "        for preprocessing_file in glob.glob(dirs + '/*'):\n",
    "            pre_file = File(path=preprocessing_file, parent = preprocessing_sub_dir)\n",
    "            pre_file = syn.store(pre_file)\n",
    "    else:\n",
    "        for sub_dirs in glob.glob(dirs+\"/*\"):\n",
    "            if sub_dirs.split('/')[-1] == 'cluster_analysis':\n",
    "                cluster_analysis_dir = Folder(name=sub_dirs.split('/')[-1], parent=batch_dir)\n",
    "                cluster_analysis_dir = syn.store(cluster_analysis_dir)\n",
    "                for cluster_dirs in glob.glob(sub_dirs + '/*'):\n",
    "                    cluster_dir = Folder(name=cluster_dirs.split('/')[-1], parent=cluster_analysis_dir)\n",
    "                    cluster_dir = syn.store(cluster_dir)\n",
    "                    for cluster_sub_dirs in glob.glob(cluster_dirs + '/*'):\n",
    "                        cluster_sub_dir = Folder(name=cluster_sub_dirs.split('/')[-1], parent=cluster_dir)\n",
    "                        cluster_sub_dir = syn.store(cluster_sub_dir)\n",
    "                        for cluster_figs in glob.glob(cluster_sub_dirs + '/*'):\n",
    "                            cluster_file = File(path=cluster_figs, parent=cluster_sub_dir)\n",
    "                            cluster_file = syn.store(cluster_file)\n",
    "            else:\n",
    "                batch_sub_dir = Folder(name=sub_dirs.split('/')[-1], parent=batch_dir)\n",
    "                batch_sub_dir = syn.store(batch_sub_dir)\n",
    "                for batch_file in glob.glob(sub_dirs + '/*'):\n",
    "                    file = File(path=batch_file, parent=batch_sub_dir)\n",
    "                    file = syn.store(file)"
   ]
  },
  {
   "cell_type": "code",
   "execution_count": 28,
   "metadata": {},
   "outputs": [],
   "source": [
    "# Script upload\n",
    "\n",
    "script_version_folder = Folder(name='version_0.5', parent=script_folder)\n",
    "script_version_folder = syn.store(script_version_folder)\n",
    "\n",
    "for scripts in glob.glob('/soe/apblair/sysbio_apblair/single_cell/trajectorycommon/SCANPY/*.py'):\n",
    "    script_file = File(path=scripts, parent=script_version_folder)\n",
    "    script_file = syn.store(script_file)\n",
    "\n",
    "command_summary = File(path = '/soe/apblair/sysbio_apblair/single_cell/trajectorycommon/SCANPY/command_summary.txt',\\\n",
    "                      parent=script_version_folder)\n",
    "command_summary = syn.store(command_summary)"
   ]
  },
  {
   "cell_type": "code",
   "execution_count": null,
   "metadata": {},
   "outputs": [],
   "source": [
    "# Reference upload\n",
    "\n",
    "reference_file = File(path = '/soe/apblair/sysbio_apblair/single_cell/references/gene_id_conversion.tsv',\\\n",
    "                     parent = reference_folder)\n",
    "reference_file = syn.store(reference_file)\n",
    "\n",
    "marker_genes_file = File(path = '/soe/apblair/sysbio_apblair/single_cell/HoC/HoC_versions/version_0.5/SCANPY/marker_genes.txt',\\\n",
    "                     parent = reference_folder)\n",
    "marker_genes_file = syn.store(marker_genes_file)"
   ]
  },
  {
   "cell_type": "code",
   "execution_count": null,
   "metadata": {},
   "outputs": [],
   "source": [
    "# Notebook upload\n",
    "\n",
    "notebook = File('/soe/apblair/sysbio_apblair/single_cell/HoC/HoC_versions/version_0.5/SCANPY/Notebooks/synapse_setup.ipynb',\\\n",
    "               parent = notebook_folder)\n",
    "notebook = syn.store(notebook)"
   ]
  }
 ],
 "metadata": {
  "kernelspec": {
   "display_name": "Python 3",
   "language": "python",
   "name": "python3"
  },
  "language_info": {
   "codemirror_mode": {
    "name": "ipython",
    "version": 3
   },
   "file_extension": ".py",
   "mimetype": "text/x-python",
   "name": "python",
   "nbconvert_exporter": "python",
   "pygments_lexer": "ipython3",
   "version": "3.5.5"
  }
 },
 "nbformat": 4,
 "nbformat_minor": 2
}
